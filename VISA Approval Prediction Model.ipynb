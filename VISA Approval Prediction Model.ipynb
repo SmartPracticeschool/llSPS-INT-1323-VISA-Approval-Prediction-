{
 "cells": [
  {
   "cell_type": "markdown",
   "metadata": {},
   "source": [
    "## Importing Libraries"
   ]
  },
  {
   "cell_type": "code",
   "execution_count": 1,
   "metadata": {},
   "outputs": [],
   "source": [
    "import numpy as np\n",
    "import pandas as pd\n",
    "import seaborn as sb\n",
    "import matplotlib.pyplot as plt\n",
    "%matplotlib inline"
   ]
  },
  {
   "cell_type": "markdown",
   "metadata": {},
   "source": [
    "## Importing dataset"
   ]
  },
  {
   "cell_type": "code",
   "execution_count": 2,
   "metadata": {},
   "outputs": [],
   "source": [
    "df = pd.read_csv(\"visa_approval.csv\")"
   ]
  },
  {
   "cell_type": "markdown",
   "metadata": {},
   "source": [
    "## Analysing dataset"
   ]
  },
  {
   "cell_type": "code",
   "execution_count": 3,
   "metadata": {
    "scrolled": true
   },
   "outputs": [
    {
     "data": {
      "text/html": [
       "<div>\n",
       "<style scoped>\n",
       "    .dataframe tbody tr th:only-of-type {\n",
       "        vertical-align: middle;\n",
       "    }\n",
       "\n",
       "    .dataframe tbody tr th {\n",
       "        vertical-align: top;\n",
       "    }\n",
       "\n",
       "    .dataframe thead th {\n",
       "        text-align: right;\n",
       "    }\n",
       "</style>\n",
       "<table border=\"1\" class=\"dataframe\">\n",
       "  <thead>\n",
       "    <tr style=\"text-align: right;\">\n",
       "      <th></th>\n",
       "      <th>Unnamed: 0</th>\n",
       "      <th>CASE_STATUS</th>\n",
       "      <th>EMPLOYER_NAME</th>\n",
       "      <th>SOC_NAME</th>\n",
       "      <th>JOB_TITLE</th>\n",
       "      <th>FULL_TIME_POSITION</th>\n",
       "      <th>PREVAILING_WAGE</th>\n",
       "      <th>YEAR</th>\n",
       "      <th>WORKSITE</th>\n",
       "      <th>lon</th>\n",
       "      <th>lat</th>\n",
       "    </tr>\n",
       "  </thead>\n",
       "  <tbody>\n",
       "    <tr>\n",
       "      <th>0</th>\n",
       "      <td>1</td>\n",
       "      <td>CERTIFIED-WITHDRAWN</td>\n",
       "      <td>UNIVERSITY OF MICHIGAN</td>\n",
       "      <td>BIOCHEMISTS AND BIOPHYSICISTS</td>\n",
       "      <td>POSTDOCTORAL RESEARCH FELLOW</td>\n",
       "      <td>N</td>\n",
       "      <td>36067.0</td>\n",
       "      <td>2016.0</td>\n",
       "      <td>ANN ARBOR, MICHIGAN</td>\n",
       "      <td>-83.743038</td>\n",
       "      <td>42.280826</td>\n",
       "    </tr>\n",
       "    <tr>\n",
       "      <th>1</th>\n",
       "      <td>2</td>\n",
       "      <td>CERTIFIED-WITHDRAWN</td>\n",
       "      <td>GOODMAN NETWORKS, INC.</td>\n",
       "      <td>CHIEF EXECUTIVES</td>\n",
       "      <td>CHIEF OPERATING OFFICER</td>\n",
       "      <td>Y</td>\n",
       "      <td>242674.0</td>\n",
       "      <td>2016.0</td>\n",
       "      <td>PLANO, TEXAS</td>\n",
       "      <td>-96.698886</td>\n",
       "      <td>33.019843</td>\n",
       "    </tr>\n",
       "    <tr>\n",
       "      <th>2</th>\n",
       "      <td>3</td>\n",
       "      <td>CERTIFIED-WITHDRAWN</td>\n",
       "      <td>PORTS AMERICA GROUP, INC.</td>\n",
       "      <td>CHIEF EXECUTIVES</td>\n",
       "      <td>CHIEF PROCESS OFFICER</td>\n",
       "      <td>Y</td>\n",
       "      <td>193066.0</td>\n",
       "      <td>2016.0</td>\n",
       "      <td>JERSEY CITY, NEW JERSEY</td>\n",
       "      <td>-74.077642</td>\n",
       "      <td>40.728158</td>\n",
       "    </tr>\n",
       "    <tr>\n",
       "      <th>3</th>\n",
       "      <td>4</td>\n",
       "      <td>CERTIFIED-WITHDRAWN</td>\n",
       "      <td>GATES CORPORATION, A WHOLLY-OWNED SUBSIDIARY O...</td>\n",
       "      <td>CHIEF EXECUTIVES</td>\n",
       "      <td>REGIONAL PRESIDEN, AMERICAS</td>\n",
       "      <td>Y</td>\n",
       "      <td>220314.0</td>\n",
       "      <td>2016.0</td>\n",
       "      <td>DENVER, COLORADO</td>\n",
       "      <td>-104.990251</td>\n",
       "      <td>39.739236</td>\n",
       "    </tr>\n",
       "    <tr>\n",
       "      <th>4</th>\n",
       "      <td>5</td>\n",
       "      <td>WITHDRAWN</td>\n",
       "      <td>PEABODY INVESTMENTS CORP.</td>\n",
       "      <td>CHIEF EXECUTIVES</td>\n",
       "      <td>PRESIDENT MONGOLIA AND INDIA</td>\n",
       "      <td>Y</td>\n",
       "      <td>157518.4</td>\n",
       "      <td>2016.0</td>\n",
       "      <td>ST. LOUIS, MISSOURI</td>\n",
       "      <td>-90.199404</td>\n",
       "      <td>38.627003</td>\n",
       "    </tr>\n",
       "  </tbody>\n",
       "</table>\n",
       "</div>"
      ],
      "text/plain": [
       "   Unnamed: 0          CASE_STATUS  \\\n",
       "0           1  CERTIFIED-WITHDRAWN   \n",
       "1           2  CERTIFIED-WITHDRAWN   \n",
       "2           3  CERTIFIED-WITHDRAWN   \n",
       "3           4  CERTIFIED-WITHDRAWN   \n",
       "4           5            WITHDRAWN   \n",
       "\n",
       "                                       EMPLOYER_NAME  \\\n",
       "0                             UNIVERSITY OF MICHIGAN   \n",
       "1                             GOODMAN NETWORKS, INC.   \n",
       "2                          PORTS AMERICA GROUP, INC.   \n",
       "3  GATES CORPORATION, A WHOLLY-OWNED SUBSIDIARY O...   \n",
       "4                          PEABODY INVESTMENTS CORP.   \n",
       "\n",
       "                        SOC_NAME                     JOB_TITLE  \\\n",
       "0  BIOCHEMISTS AND BIOPHYSICISTS  POSTDOCTORAL RESEARCH FELLOW   \n",
       "1               CHIEF EXECUTIVES       CHIEF OPERATING OFFICER   \n",
       "2               CHIEF EXECUTIVES         CHIEF PROCESS OFFICER   \n",
       "3               CHIEF EXECUTIVES   REGIONAL PRESIDEN, AMERICAS   \n",
       "4               CHIEF EXECUTIVES  PRESIDENT MONGOLIA AND INDIA   \n",
       "\n",
       "  FULL_TIME_POSITION  PREVAILING_WAGE    YEAR                 WORKSITE  \\\n",
       "0                  N          36067.0  2016.0      ANN ARBOR, MICHIGAN   \n",
       "1                  Y         242674.0  2016.0             PLANO, TEXAS   \n",
       "2                  Y         193066.0  2016.0  JERSEY CITY, NEW JERSEY   \n",
       "3                  Y         220314.0  2016.0         DENVER, COLORADO   \n",
       "4                  Y         157518.4  2016.0      ST. LOUIS, MISSOURI   \n",
       "\n",
       "          lon        lat  \n",
       "0  -83.743038  42.280826  \n",
       "1  -96.698886  33.019843  \n",
       "2  -74.077642  40.728158  \n",
       "3 -104.990251  39.739236  \n",
       "4  -90.199404  38.627003  "
      ]
     },
     "execution_count": 3,
     "metadata": {},
     "output_type": "execute_result"
    }
   ],
   "source": [
    "df.head()"
   ]
  },
  {
   "cell_type": "code",
   "execution_count": 4,
   "metadata": {},
   "outputs": [
    {
     "data": {
      "text/html": [
       "<div>\n",
       "<style scoped>\n",
       "    .dataframe tbody tr th:only-of-type {\n",
       "        vertical-align: middle;\n",
       "    }\n",
       "\n",
       "    .dataframe tbody tr th {\n",
       "        vertical-align: top;\n",
       "    }\n",
       "\n",
       "    .dataframe thead th {\n",
       "        text-align: right;\n",
       "    }\n",
       "</style>\n",
       "<table border=\"1\" class=\"dataframe\">\n",
       "  <thead>\n",
       "    <tr style=\"text-align: right;\">\n",
       "      <th></th>\n",
       "      <th>Unnamed: 0</th>\n",
       "      <th>PREVAILING_WAGE</th>\n",
       "      <th>YEAR</th>\n",
       "      <th>lon</th>\n",
       "      <th>lat</th>\n",
       "    </tr>\n",
       "  </thead>\n",
       "  <tbody>\n",
       "    <tr>\n",
       "      <th>count</th>\n",
       "      <td>3.002458e+06</td>\n",
       "      <td>3.002373e+06</td>\n",
       "      <td>3.002445e+06</td>\n",
       "      <td>2.895216e+06</td>\n",
       "      <td>2.895216e+06</td>\n",
       "    </tr>\n",
       "    <tr>\n",
       "      <th>mean</th>\n",
       "      <td>1.501230e+06</td>\n",
       "      <td>1.469984e+05</td>\n",
       "      <td>2.013855e+03</td>\n",
       "      <td>-9.213441e+01</td>\n",
       "      <td>3.816054e+01</td>\n",
       "    </tr>\n",
       "    <tr>\n",
       "      <th>std</th>\n",
       "      <td>8.667351e+05</td>\n",
       "      <td>5.287609e+06</td>\n",
       "      <td>1.680612e+00</td>\n",
       "      <td>1.965591e+01</td>\n",
       "      <td>4.672835e+00</td>\n",
       "    </tr>\n",
       "    <tr>\n",
       "      <th>min</th>\n",
       "      <td>1.000000e+00</td>\n",
       "      <td>0.000000e+00</td>\n",
       "      <td>2.011000e+03</td>\n",
       "      <td>-1.578583e+02</td>\n",
       "      <td>1.343719e+01</td>\n",
       "    </tr>\n",
       "    <tr>\n",
       "      <th>25%</th>\n",
       "      <td>7.506152e+05</td>\n",
       "      <td>5.437100e+04</td>\n",
       "      <td>2.012000e+03</td>\n",
       "      <td>-1.119261e+02</td>\n",
       "      <td>3.416536e+01</td>\n",
       "    </tr>\n",
       "    <tr>\n",
       "      <th>50%</th>\n",
       "      <td>1.501230e+06</td>\n",
       "      <td>6.502100e+04</td>\n",
       "      <td>2.014000e+03</td>\n",
       "      <td>-8.615862e+01</td>\n",
       "      <td>3.910312e+01</td>\n",
       "    </tr>\n",
       "    <tr>\n",
       "      <th>75%</th>\n",
       "      <td>2.251844e+06</td>\n",
       "      <td>8.143200e+04</td>\n",
       "      <td>2.015000e+03</td>\n",
       "      <td>-7.551381e+01</td>\n",
       "      <td>4.088374e+01</td>\n",
       "    </tr>\n",
       "    <tr>\n",
       "      <th>max</th>\n",
       "      <td>3.002458e+06</td>\n",
       "      <td>6.997607e+09</td>\n",
       "      <td>2.016000e+03</td>\n",
       "      <td>1.457298e+02</td>\n",
       "      <td>6.483778e+01</td>\n",
       "    </tr>\n",
       "  </tbody>\n",
       "</table>\n",
       "</div>"
      ],
      "text/plain": [
       "         Unnamed: 0  PREVAILING_WAGE          YEAR           lon           lat\n",
       "count  3.002458e+06     3.002373e+06  3.002445e+06  2.895216e+06  2.895216e+06\n",
       "mean   1.501230e+06     1.469984e+05  2.013855e+03 -9.213441e+01  3.816054e+01\n",
       "std    8.667351e+05     5.287609e+06  1.680612e+00  1.965591e+01  4.672835e+00\n",
       "min    1.000000e+00     0.000000e+00  2.011000e+03 -1.578583e+02  1.343719e+01\n",
       "25%    7.506152e+05     5.437100e+04  2.012000e+03 -1.119261e+02  3.416536e+01\n",
       "50%    1.501230e+06     6.502100e+04  2.014000e+03 -8.615862e+01  3.910312e+01\n",
       "75%    2.251844e+06     8.143200e+04  2.015000e+03 -7.551381e+01  4.088374e+01\n",
       "max    3.002458e+06     6.997607e+09  2.016000e+03  1.457298e+02  6.483778e+01"
      ]
     },
     "execution_count": 4,
     "metadata": {},
     "output_type": "execute_result"
    }
   ],
   "source": [
    "df.describe()"
   ]
  },
  {
   "cell_type": "code",
   "execution_count": 5,
   "metadata": {},
   "outputs": [
    {
     "name": "stdout",
     "output_type": "stream",
     "text": [
      "<class 'pandas.core.frame.DataFrame'>\n",
      "RangeIndex: 3002458 entries, 0 to 3002457\n",
      "Data columns (total 11 columns):\n",
      " #   Column              Dtype  \n",
      "---  ------              -----  \n",
      " 0   Unnamed: 0          int64  \n",
      " 1   CASE_STATUS         object \n",
      " 2   EMPLOYER_NAME       object \n",
      " 3   SOC_NAME            object \n",
      " 4   JOB_TITLE           object \n",
      " 5   FULL_TIME_POSITION  object \n",
      " 6   PREVAILING_WAGE     float64\n",
      " 7   YEAR                float64\n",
      " 8   WORKSITE            object \n",
      " 9   lon                 float64\n",
      " 10  lat                 float64\n",
      "dtypes: float64(4), int64(1), object(6)\n",
      "memory usage: 252.0+ MB\n"
     ]
    }
   ],
   "source": [
    "df.info()"
   ]
  },
  {
   "cell_type": "code",
   "execution_count": 6,
   "metadata": {},
   "outputs": [
    {
     "data": {
      "text/plain": [
       "Index(['Unnamed: 0', 'CASE_STATUS', 'EMPLOYER_NAME', 'SOC_NAME', 'JOB_TITLE',\n",
       "       'FULL_TIME_POSITION', 'PREVAILING_WAGE', 'YEAR', 'WORKSITE', 'lon',\n",
       "       'lat'],\n",
       "      dtype='object')"
      ]
     },
     "execution_count": 6,
     "metadata": {},
     "output_type": "execute_result"
    }
   ],
   "source": [
    "df.columns"
   ]
  },
  {
   "cell_type": "code",
   "execution_count": 77,
   "metadata": {},
   "outputs": [
    {
     "data": {
      "text/plain": [
       "2016.0    625926\n",
       "2015.0    599272\n",
       "2014.0    503393\n",
       "2013.0    430524\n",
       "2012.0    404882\n",
       "2011.0    348662\n",
       "Name: YEAR, dtype: int64"
      ]
     },
     "execution_count": 77,
     "metadata": {},
     "output_type": "execute_result"
    }
   ],
   "source": [
    "df[\"YEAR\"].value_counts()"
   ]
  },
  {
   "cell_type": "code",
   "execution_count": 7,
   "metadata": {
    "scrolled": true
   },
   "outputs": [
    {
     "data": {
      "text/plain": [
       "array(['CERTIFIED-WITHDRAWN', 'WITHDRAWN', 'CERTIFIED', 'DENIED',\n",
       "       'REJECTED', 'INVALIDATED',\n",
       "       'PENDING QUALITY AND COMPLIANCE REVIEW - UNASSIGNED', nan],\n",
       "      dtype=object)"
      ]
     },
     "execution_count": 7,
     "metadata": {},
     "output_type": "execute_result"
    }
   ],
   "source": [
    "df['CASE_STATUS'].unique()"
   ]
  },
  {
   "cell_type": "code",
   "execution_count": 8,
   "metadata": {
    "scrolled": true
   },
   "outputs": [
    {
     "data": {
      "text/plain": [
       "CERTIFIED                                             2615623\n",
       "CERTIFIED-WITHDRAWN                                    202659\n",
       "DENIED                                                  94346\n",
       "WITHDRAWN                                               89799\n",
       "PENDING QUALITY AND COMPLIANCE REVIEW - UNASSIGNED         15\n",
       "REJECTED                                                    2\n",
       "INVALIDATED                                                 1\n",
       "Name: CASE_STATUS, dtype: int64"
      ]
     },
     "execution_count": 8,
     "metadata": {},
     "output_type": "execute_result"
    }
   ],
   "source": [
    "df[\"CASE_STATUS\"].value_counts()"
   ]
  },
  {
   "cell_type": "code",
   "execution_count": 9,
   "metadata": {},
   "outputs": [
    {
     "data": {
      "text/plain": [
       "array(['UNIVERSITY OF MICHIGAN', 'GOODMAN NETWORKS, INC.',\n",
       "       'PORTS AMERICA GROUP, INC.', ...,\n",
       "       'ELEGANT SUPER STORES CORPORATE CORP (HDQTRS)',\n",
       "       'TELSEY CAPITAL GROUP LLC', 'J. LOGAN INTERIORS'], dtype=object)"
      ]
     },
     "execution_count": 9,
     "metadata": {},
     "output_type": "execute_result"
    }
   ],
   "source": [
    "df['EMPLOYER_NAME'].unique()"
   ]
  },
  {
   "cell_type": "code",
   "execution_count": 10,
   "metadata": {},
   "outputs": [
    {
     "data": {
      "text/plain": [
       "INFOSYS LIMITED                           130592\n",
       "TATA CONSULTANCY SERVICES LIMITED          64726\n",
       "WIPRO LIMITED                              48117\n",
       "DELOITTE CONSULTING LLP                    36742\n",
       "IBM INDIA PRIVATE LIMITED                  34219\n",
       "                                           ...  \n",
       "PERLA DENTAL OF BEDFORD                        1\n",
       "MATRIX HOME HEALTH CARE                        1\n",
       "JIT DECOR & SUNCONTROL INC                     1\n",
       "NATIONAL ENERGY CONTROL SERVICES, INC.         1\n",
       "DAVIS, GRABER, PLOTZKER & WARD, LLP            1\n",
       "Name: EMPLOYER_NAME, Length: 236013, dtype: int64"
      ]
     },
     "execution_count": 10,
     "metadata": {},
     "output_type": "execute_result"
    }
   ],
   "source": [
    "df[\"EMPLOYER_NAME\"].value_counts()"
   ]
  },
  {
   "cell_type": "code",
   "execution_count": 11,
   "metadata": {},
   "outputs": [
    {
     "data": {
      "text/plain": [
       "(3002458, 11)"
      ]
     },
     "execution_count": 11,
     "metadata": {},
     "output_type": "execute_result"
    }
   ],
   "source": [
    "df.shape"
   ]
  },
  {
   "cell_type": "markdown",
   "metadata": {},
   "source": [
    "## Droping unwanted columns"
   ]
  },
  {
   "cell_type": "code",
   "execution_count": 12,
   "metadata": {},
   "outputs": [],
   "source": [
    "df.drop(columns = ['Unnamed: 0','lon','lat'],inplace = True)"
   ]
  },
  {
   "cell_type": "code",
   "execution_count": 13,
   "metadata": {},
   "outputs": [
    {
     "data": {
      "text/html": [
       "<div>\n",
       "<style scoped>\n",
       "    .dataframe tbody tr th:only-of-type {\n",
       "        vertical-align: middle;\n",
       "    }\n",
       "\n",
       "    .dataframe tbody tr th {\n",
       "        vertical-align: top;\n",
       "    }\n",
       "\n",
       "    .dataframe thead th {\n",
       "        text-align: right;\n",
       "    }\n",
       "</style>\n",
       "<table border=\"1\" class=\"dataframe\">\n",
       "  <thead>\n",
       "    <tr style=\"text-align: right;\">\n",
       "      <th></th>\n",
       "      <th>CASE_STATUS</th>\n",
       "      <th>EMPLOYER_NAME</th>\n",
       "      <th>SOC_NAME</th>\n",
       "      <th>JOB_TITLE</th>\n",
       "      <th>FULL_TIME_POSITION</th>\n",
       "      <th>PREVAILING_WAGE</th>\n",
       "      <th>YEAR</th>\n",
       "      <th>WORKSITE</th>\n",
       "    </tr>\n",
       "  </thead>\n",
       "  <tbody>\n",
       "    <tr>\n",
       "      <th>0</th>\n",
       "      <td>CERTIFIED-WITHDRAWN</td>\n",
       "      <td>UNIVERSITY OF MICHIGAN</td>\n",
       "      <td>BIOCHEMISTS AND BIOPHYSICISTS</td>\n",
       "      <td>POSTDOCTORAL RESEARCH FELLOW</td>\n",
       "      <td>N</td>\n",
       "      <td>36067.0</td>\n",
       "      <td>2016.0</td>\n",
       "      <td>ANN ARBOR, MICHIGAN</td>\n",
       "    </tr>\n",
       "    <tr>\n",
       "      <th>1</th>\n",
       "      <td>CERTIFIED-WITHDRAWN</td>\n",
       "      <td>GOODMAN NETWORKS, INC.</td>\n",
       "      <td>CHIEF EXECUTIVES</td>\n",
       "      <td>CHIEF OPERATING OFFICER</td>\n",
       "      <td>Y</td>\n",
       "      <td>242674.0</td>\n",
       "      <td>2016.0</td>\n",
       "      <td>PLANO, TEXAS</td>\n",
       "    </tr>\n",
       "  </tbody>\n",
       "</table>\n",
       "</div>"
      ],
      "text/plain": [
       "           CASE_STATUS           EMPLOYER_NAME                       SOC_NAME  \\\n",
       "0  CERTIFIED-WITHDRAWN  UNIVERSITY OF MICHIGAN  BIOCHEMISTS AND BIOPHYSICISTS   \n",
       "1  CERTIFIED-WITHDRAWN  GOODMAN NETWORKS, INC.               CHIEF EXECUTIVES   \n",
       "\n",
       "                      JOB_TITLE FULL_TIME_POSITION  PREVAILING_WAGE    YEAR  \\\n",
       "0  POSTDOCTORAL RESEARCH FELLOW                  N          36067.0  2016.0   \n",
       "1       CHIEF OPERATING OFFICER                  Y         242674.0  2016.0   \n",
       "\n",
       "              WORKSITE  \n",
       "0  ANN ARBOR, MICHIGAN  \n",
       "1         PLANO, TEXAS  "
      ]
     },
     "execution_count": 13,
     "metadata": {},
     "output_type": "execute_result"
    }
   ],
   "source": [
    "df.head(2)"
   ]
  },
  {
   "cell_type": "code",
   "execution_count": 14,
   "metadata": {},
   "outputs": [
    {
     "data": {
      "text/plain": [
       "(3002458, 8)"
      ]
     },
     "execution_count": 14,
     "metadata": {},
     "output_type": "execute_result"
    }
   ],
   "source": [
    "df.shape"
   ]
  },
  {
   "cell_type": "markdown",
   "metadata": {},
   "source": [
    "## checking for null values"
   ]
  },
  {
   "cell_type": "code",
   "execution_count": 15,
   "metadata": {},
   "outputs": [
    {
     "data": {
      "text/plain": [
       "CASE_STATUS            True\n",
       "EMPLOYER_NAME          True\n",
       "SOC_NAME               True\n",
       "JOB_TITLE              True\n",
       "FULL_TIME_POSITION     True\n",
       "PREVAILING_WAGE        True\n",
       "YEAR                   True\n",
       "WORKSITE              False\n",
       "dtype: bool"
      ]
     },
     "execution_count": 15,
     "metadata": {},
     "output_type": "execute_result"
    }
   ],
   "source": [
    "df.isnull().any()"
   ]
  },
  {
   "cell_type": "code",
   "execution_count": 16,
   "metadata": {},
   "outputs": [
    {
     "data": {
      "text/plain": [
       "CASE_STATUS              13\n",
       "EMPLOYER_NAME            59\n",
       "SOC_NAME              17734\n",
       "JOB_TITLE                43\n",
       "FULL_TIME_POSITION       15\n",
       "PREVAILING_WAGE          85\n",
       "YEAR                     13\n",
       "WORKSITE                  0\n",
       "dtype: int64"
      ]
     },
     "execution_count": 16,
     "metadata": {},
     "output_type": "execute_result"
    }
   ],
   "source": [
    "df.isnull().sum()"
   ]
  },
  {
   "cell_type": "markdown",
   "metadata": {},
   "source": [
    "# Filling null values"
   ]
  },
  {
   "cell_type": "code",
   "execution_count": 17,
   "metadata": {},
   "outputs": [],
   "source": [
    "#print(df['EMPLOYER_NAME'].mode())\n",
    "df['EMPLOYER_NAME'] = df['EMPLOYER_NAME'].fillna(df['EMPLOYER_NAME'].mode().iloc[0])\n",
    "\n",
    "#df['SOC_NAME'].mode\n",
    "df['SOC_NAME'] = df['SOC_NAME'].fillna(df['SOC_NAME'].mode().iloc[0])\n",
    "\n",
    "#df['JOB_TITLE'].mode()\n",
    "df['JOB_TITLE'] = df['JOB_TITLE'].fillna(df['JOB_TITLE'].mode().iloc[0])\n",
    "\n",
    "#df['FULL_TIME_POSITION'].mode()\n",
    "df['FULL_TIME_POSITION'] = df['FULL_TIME_POSITION'].fillna(df['FULL_TIME_POSITION'].mode().iloc[0])\n",
    "\n",
    "#df['PREVAILING_WAGE'].mean()\n",
    "df['PREVAILING_WAGE'].fillna(df['PREVAILING_WAGE'].mean(), inplace = True)\n",
    "df['PREVAILING_WAGE'] = df['PREVAILING_WAGE'].round()\n",
    "\n",
    "#df['YEAR'].mode()\n",
    "df['YEAR'] = df['YEAR'].fillna(df['YEAR'].mode().iloc[0])\n",
    "\n",
    "#df['CASE_STATUS'].mode()\n",
    "df['CASE_STATUS'] = df['CASE_STATUS'].fillna(df['CASE_STATUS'].mode().iloc[0])"
   ]
  },
  {
   "cell_type": "markdown",
   "metadata": {},
   "source": [
    "## checking the null values if any"
   ]
  },
  {
   "cell_type": "code",
   "execution_count": 18,
   "metadata": {
    "scrolled": true
   },
   "outputs": [
    {
     "data": {
      "text/plain": [
       "CASE_STATUS           False\n",
       "EMPLOYER_NAME         False\n",
       "SOC_NAME              False\n",
       "JOB_TITLE             False\n",
       "FULL_TIME_POSITION    False\n",
       "PREVAILING_WAGE       False\n",
       "YEAR                  False\n",
       "WORKSITE              False\n",
       "dtype: bool"
      ]
     },
     "execution_count": 18,
     "metadata": {},
     "output_type": "execute_result"
    }
   ],
   "source": [
    "df.isnull().any()"
   ]
  },
  {
   "cell_type": "markdown",
   "metadata": {},
   "source": [
    "# Visualization"
   ]
  },
  {
   "cell_type": "code",
   "execution_count": 19,
   "metadata": {},
   "outputs": [
    {
     "data": {
      "text/plain": [
       "<matplotlib.axes._subplots.AxesSubplot at 0xbc9c208>"
      ]
     },
     "execution_count": 19,
     "metadata": {},
     "output_type": "execute_result"
    },
    {
     "data": {
      "image/png": "[encoded data removed]",
      "text/plain": [
       "<Figure size 432x288 with 1 Axes>"
      ]
     },
     "metadata": {
      "needs_background": "light"
     },
     "output_type": "display_data"
    }
   ],
   "source": [
    "#The top 15 SOC names for which H1-B visas filed.\n",
    "plt_soc= df['SOC_NAME'].value_counts().head(15).plot.barh(title = \"Top 15 SOCs in demand\", color = 'green')\n",
    "plt_soc.set_ylabel(\"SOC NAME\")\n",
    "plt_soc.set_xlabel(\"NUMBER OF PETITIONS\")\n",
    "plt_soc\n",
    "#print(df['SOC_NAME'].value_counts().head(15))"
   ]
  },
  {
   "cell_type": "code",
   "execution_count": 20,
   "metadata": {},
   "outputs": [
    {
     "data": {
      "image/png": "[encoded data removed]",
      "text/plain": [
       "<Figure size 432x288 with 1 Axes>"
      ]
     },
     "metadata": {
      "needs_background": "light"
     },
     "output_type": "display_data"
    },
    {
     "data": {
      "text/plain": [
       "<matplotlib.axes._subplots.AxesSubplot at 0xbdbdf48>"
      ]
     },
     "execution_count": 20,
     "metadata": {},
     "output_type": "execute_result"
    }
   ],
   "source": [
    "#Salary trend per year\n",
    "plt_salary = df.loc[:,['PREVAILING_WAGE', 'YEAR']].groupby(['YEAR']).agg(['median'])\n",
    "plt_salary = plt_salary.plot(kind = 'bar', color = 'blue', legend = None)\n",
    "plt.xlabel('YEAR')\n",
    "plt.ylabel('MEDIAN WAGE')\n",
    "plt.title('Salary trend per year')\n",
    "plt.show()\n",
    "plt_salary"
   ]
  },
  {
   "cell_type": "markdown",
   "metadata": {},
   "source": [
    "## Converting \"CASE_STATUS\" Categorical to Binary outcomes "
   ]
  },
  {
   "cell_type": "code",
   "execution_count": 21,
   "metadata": {
    "scrolled": true
   },
   "outputs": [
    {
     "data": {
      "text/plain": [
       "CERTIFIED                                             2615636\n",
       "CERTIFIED-WITHDRAWN                                    202659\n",
       "DENIED                                                  94346\n",
       "WITHDRAWN                                               89799\n",
       "PENDING QUALITY AND COMPLIANCE REVIEW - UNASSIGNED         15\n",
       "REJECTED                                                    2\n",
       "INVALIDATED                                                 1\n",
       "Name: CASE_STATUS, dtype: int64"
      ]
     },
     "execution_count": 21,
     "metadata": {},
     "output_type": "execute_result"
    }
   ],
   "source": [
    "df[\"CASE_STATUS\"].value_counts()"
   ]
  },
  {
   "cell_type": "code",
   "execution_count": 22,
   "metadata": {},
   "outputs": [
    {
     "data": {
      "image/png": "[encoded data removed]",
      "text/plain": [
       "<Figure size 864x576 with 1 Axes>"
      ]
     },
     "metadata": {
      "needs_background": "light"
     },
     "output_type": "display_data"
    }
   ],
   "source": [
    "plt.figure(figsize=(12,8))\n",
    "ax=df['CASE_STATUS'].value_counts().sort_values(ascending=True).plot.barh(width=0.9,color='y',edgecolor='k',linewidth=1.5)\n",
    "for i, v in enumerate(df['CASE_STATUS'].value_counts().sort_values(ascending=True).values): \n",
    "    ax.text(.2, i, v,fontsize=12,color='r',weight='bold')\n",
    "plt.title('Case Status for All Years',fontsize=30)\n",
    "plt.xlabel('Number of Applicants',fontsize=20)\n",
    "plt.tick_params(labelsize=15)\n",
    "plt.grid()\n",
    "plt.ioff()\n",
    "plt.show()"
   ]
  },
  {
   "cell_type": "code",
   "execution_count": 23,
   "metadata": {},
   "outputs": [],
   "source": [
    "#here we are going for binary classification hence we have converted remaining classes into either certified or denied.\n",
    "import warnings\n",
    "warnings.filterwarnings(\"ignore\")\n",
    "df.CASE_STATUS[df['CASE_STATUS']=='INVALIDATED'] = 'DENIED'\n",
    "df.CASE_STATUS[df['CASE_STATUS']=='REJECTED'] = 'DENIED'\n",
    "df.CASE_STATUS[df['CASE_STATUS']=='PENDING QUALITY AND COMPLIANCE REVIEW - UNASSIGNED'] = 'DENIED'\n",
    "df.CASE_STATUS[df['CASE_STATUS']=='CERTIFIED-WITHDRAWN'] = 'CERTIFIED'"
   ]
  },
  {
   "cell_type": "code",
   "execution_count": 24,
   "metadata": {},
   "outputs": [
    {
     "data": {
      "text/plain": [
       "CERTIFIED    2818295\n",
       "DENIED         94364\n",
       "WITHDRAWN      89799\n",
       "Name: CASE_STATUS, dtype: int64"
      ]
     },
     "execution_count": 24,
     "metadata": {},
     "output_type": "execute_result"
    }
   ],
   "source": [
    "df[\"CASE_STATUS\"].value_counts()"
   ]
  },
  {
   "cell_type": "code",
   "execution_count": 25,
   "metadata": {},
   "outputs": [],
   "source": [
    "#As WITHDRAWN category we can't to eiher certified or denied so drop rows with category withdrawn\n",
    "df = df.drop(df[df.CASE_STATUS == 'WITHDRAWN'].index)"
   ]
  },
  {
   "cell_type": "code",
   "execution_count": 26,
   "metadata": {
    "scrolled": true
   },
   "outputs": [
    {
     "data": {
      "text/plain": [
       "CERTIFIED    2818295\n",
       "DENIED         94364\n",
       "Name: CASE_STATUS, dtype: int64"
      ]
     },
     "execution_count": 26,
     "metadata": {},
     "output_type": "execute_result"
    }
   ],
   "source": [
    "df[\"CASE_STATUS\"].value_counts()  "
   ]
  },
  {
   "cell_type": "raw",
   "metadata": {},
   "source": [
    "Data visualization of Output Column"
   ]
  },
  {
   "cell_type": "code",
   "execution_count": 27,
   "metadata": {},
   "outputs": [
    {
     "data": {
      "image/png": "[encoded data removed]",
      "text/plain": [
       "<Figure size 576x360 with 1 Axes>"
      ]
     },
     "metadata": {
      "needs_background": "light"
     },
     "output_type": "display_data"
    }
   ],
   "source": [
    "plt.figure(figsize=(8,5))\n",
    "#plt.figure()\n",
    "ax=df['CASE_STATUS'].value_counts().sort_values(ascending=True).plot.barh(color='y')\n",
    "for i, v in enumerate(df['CASE_STATUS'].value_counts().sort_values(ascending=True).values): \n",
    "    ax.text(.2, i, v,fontsize=12,color='r',weight='bold')\n",
    "plt.title('Case Status for All Years',fontsize=15)\n",
    "plt.xlabel('Number of Applicants',fontsize=15)\n",
    "plt.tick_params(labelsize=11)\n",
    "plt.grid()\n",
    "plt.ioff()\n",
    "plt.show()"
   ]
  },
  {
   "cell_type": "markdown",
   "metadata": {},
   "source": [
    "# Down sampling"
   ]
  },
  {
   "cell_type": "code",
   "execution_count": 28,
   "metadata": {},
   "outputs": [
    {
     "data": {
      "text/plain": [
       "CERTIFIED    156014\n",
       "DENIED        94364\n",
       "Name: CASE_STATUS, dtype: int64"
      ]
     },
     "execution_count": 28,
     "metadata": {},
     "output_type": "execute_result"
    }
   ],
   "source": [
    "from sklearn.utils import resample\n",
    "# Separate majority and minority classes\n",
    "df_majority = df[df.CASE_STATUS=='CERTIFIED']\n",
    "df_minority = df[df.CASE_STATUS=='DENIED']\n",
    " \n",
    "# Downsample majority class\n",
    "df_majority_downsampled = resample(df_majority, \n",
    "                                 replace=False,    # sample without replacement\n",
    "                                 n_samples=156014,     # to match minority class\n",
    "                                 random_state=123) # reproducible results\n",
    " \n",
    "# Combine minority class with downsampled majority class\n",
    "df_downsampled = pd.concat([df_majority_downsampled, df_minority])\n",
    " \n",
    "# Display new class counts\n",
    "df_downsampled.CASE_STATUS.value_counts()"
   ]
  },
  {
   "cell_type": "code",
   "execution_count": 29,
   "metadata": {
    "scrolled": true
   },
   "outputs": [
    {
     "data": {
      "image/png": "[encoded data removed]",
      "text/plain": [
       "<Figure size 432x288 with 1 Axes>"
      ]
     },
     "metadata": {
      "needs_background": "light"
     },
     "output_type": "display_data"
    }
   ],
   "source": [
    "objects = ('certified','denied')\n",
    "y_pos = np.arange(len(objects))\n",
    "performance = [156014,94364]\n",
    "\n",
    "plt.bar(y_pos, performance, align='center',color= 'blue')\n",
    "plt.xticks(y_pos, objects)\n",
    "plt.ylabel('number of petitions')\n",
    "plt.title('Case_status vs number of petitions')\n",
    "plt.show()\n"
   ]
  },
  {
   "cell_type": "code",
   "execution_count": 30,
   "metadata": {},
   "outputs": [
    {
     "name": "stdout",
     "output_type": "stream",
     "text": [
      "Case Status  2\n",
      "Unique Employers  80447\n",
      "Wages  21099\n",
      "Unique SOCs  1419\n",
      "Unique Job Titles  53598\n",
      "Unique Filing Year  6\n",
      "Unique Worksite State  8606\n"
     ]
    }
   ],
   "source": [
    "print(\"Case Status \",df_downsampled.CASE_STATUS.nunique())\n",
    "print(\"Unique Employers \",df_downsampled.EMPLOYER_NAME.nunique())\n",
    "print(\"Wages \",df_downsampled.PREVAILING_WAGE.nunique())\n",
    "print(\"Unique SOCs \", df_downsampled.SOC_NAME.nunique())\n",
    "print(\"Unique Job Titles \",df_downsampled.JOB_TITLE.nunique())\n",
    "print(\"Unique Filing Year \",df_downsampled.YEAR.nunique())\n",
    "print(\"Unique Worksite State \",df_downsampled.WORKSITE.nunique())\n"
   ]
  },
  {
   "cell_type": "markdown",
   "metadata": {},
   "source": [
    "## Distrubition of PREVAILING_WAGE to 5 categories"
   ]
  },
  {
   "cell_type": "code",
   "execution_count": 31,
   "metadata": {},
   "outputs": [],
   "source": [
    "def wage_categorization(wage):\n",
    "    if wage <=50000:\n",
    "        return \"VERY LOW\"\n",
    "    elif wage >50000 and wage <= 70000:\n",
    "        return \"LOW\"\n",
    "    elif wage >70000 and wage <= 90000:\n",
    "        return \"MEDIUM\"\n",
    "    elif wage >90000 and wage<=150000:\n",
    "        return \"HIGH\"\n",
    "    elif wage >=150000:\n",
    "        return \"VERY HIGH\""
   ]
  },
  {
   "cell_type": "code",
   "execution_count": 32,
   "metadata": {},
   "outputs": [],
   "source": [
    "df_downsampled['WAGE'] = df_downsampled['PREVAILING_WAGE'].apply(wage_categorization)"
   ]
  },
  {
   "cell_type": "code",
   "execution_count": 33,
   "metadata": {},
   "outputs": [
    {
     "data": {
      "text/plain": [
       "array(['LOW', 'VERY LOW', 'MEDIUM', 'HIGH', 'VERY HIGH'], dtype=object)"
      ]
     },
     "execution_count": 33,
     "metadata": {},
     "output_type": "execute_result"
    }
   ],
   "source": [
    "df_downsampled['WAGE'].unique()"
   ]
  },
  {
   "cell_type": "code",
   "execution_count": 34,
   "metadata": {},
   "outputs": [],
   "source": [
    "#dropping PREVAILING_WAGE column\n",
    "df_downsampled.drop(columns = ['PREVAILING_WAGE'], inplace = True)"
   ]
  },
  {
   "cell_type": "code",
   "execution_count": 35,
   "metadata": {
    "scrolled": false
   },
   "outputs": [
    {
     "name": "stdout",
     "output_type": "stream",
     "text": [
      "<class 'pandas.core.frame.DataFrame'>\n",
      "Int64Index: 250378 entries, 1022566 to 3002392\n",
      "Data columns (total 8 columns):\n",
      " #   Column              Non-Null Count   Dtype  \n",
      "---  ------              --------------   -----  \n",
      " 0   CASE_STATUS         250378 non-null  object \n",
      " 1   EMPLOYER_NAME       250378 non-null  object \n",
      " 2   SOC_NAME            250378 non-null  object \n",
      " 3   JOB_TITLE           250378 non-null  object \n",
      " 4   FULL_TIME_POSITION  250378 non-null  object \n",
      " 5   YEAR                250378 non-null  float64\n",
      " 6   WORKSITE            250378 non-null  object \n",
      " 7   WAGE                250378 non-null  object \n",
      "dtypes: float64(1), object(7)\n",
      "memory usage: 17.2+ MB\n"
     ]
    },
    {
     "data": {
      "text/plain": [
       "(250378, 8)"
      ]
     },
     "execution_count": 35,
     "metadata": {},
     "output_type": "execute_result"
    }
   ],
   "source": [
    "df_downsampled.info()\n",
    "df_downsampled.shape"
   ]
  },
  {
   "cell_type": "code",
   "execution_count": 36,
   "metadata": {},
   "outputs": [
    {
     "data": {
      "text/html": [
       "<div>\n",
       "<style scoped>\n",
       "    .dataframe tbody tr th:only-of-type {\n",
       "        vertical-align: middle;\n",
       "    }\n",
       "\n",
       "    .dataframe tbody tr th {\n",
       "        vertical-align: top;\n",
       "    }\n",
       "\n",
       "    .dataframe thead th {\n",
       "        text-align: right;\n",
       "    }\n",
       "</style>\n",
       "<table border=\"1\" class=\"dataframe\">\n",
       "  <thead>\n",
       "    <tr style=\"text-align: right;\">\n",
       "      <th></th>\n",
       "      <th>CASE_STATUS</th>\n",
       "      <th>EMPLOYER_NAME</th>\n",
       "      <th>SOC_NAME</th>\n",
       "      <th>JOB_TITLE</th>\n",
       "      <th>FULL_TIME_POSITION</th>\n",
       "      <th>YEAR</th>\n",
       "      <th>WORKSITE</th>\n",
       "      <th>WAGE</th>\n",
       "    </tr>\n",
       "  </thead>\n",
       "  <tbody>\n",
       "    <tr>\n",
       "      <th>1022566</th>\n",
       "      <td>CERTIFIED</td>\n",
       "      <td>TECHIZEE, INC.</td>\n",
       "      <td>COMPUTER SYSTEMS ANALYSTS</td>\n",
       "      <td>COMPUTER SYSTEM ANALYST</td>\n",
       "      <td>Y</td>\n",
       "      <td>2015.0</td>\n",
       "      <td>SOMERSET, NEW JERSEY</td>\n",
       "      <td>LOW</td>\n",
       "    </tr>\n",
       "    <tr>\n",
       "      <th>962549</th>\n",
       "      <td>CERTIFIED</td>\n",
       "      <td>CONNVERTEX TECHNOLOGIES INC.</td>\n",
       "      <td>COMPUTER PROGRAMMERS</td>\n",
       "      <td>COMPUTER PROGRAMMER/DEVELOPER</td>\n",
       "      <td>Y</td>\n",
       "      <td>2015.0</td>\n",
       "      <td>BISMARCK, NORTH DAKOTA</td>\n",
       "      <td>VERY LOW</td>\n",
       "    </tr>\n",
       "    <tr>\n",
       "      <th>370678</th>\n",
       "      <td>CERTIFIED</td>\n",
       "      <td>HQ TECH SOLUTIONS LLC</td>\n",
       "      <td>SOFTWARE DEVELOPERS, APPLICATIONS</td>\n",
       "      <td>HEALTHCARE DATA ANALYST</td>\n",
       "      <td>N</td>\n",
       "      <td>2016.0</td>\n",
       "      <td>WEST HARTFORD, CONNECTICUT</td>\n",
       "      <td>LOW</td>\n",
       "    </tr>\n",
       "    <tr>\n",
       "      <th>1987954</th>\n",
       "      <td>CERTIFIED</td>\n",
       "      <td>ERNST &amp; YOUNG U.S. LLP</td>\n",
       "      <td>Accountants and Auditors</td>\n",
       "      <td>ASSURANCE STAFF</td>\n",
       "      <td>Y</td>\n",
       "      <td>2013.0</td>\n",
       "      <td>SAN FRANCISCO, CALIFORNIA</td>\n",
       "      <td>LOW</td>\n",
       "    </tr>\n",
       "    <tr>\n",
       "      <th>2692234</th>\n",
       "      <td>CERTIFIED</td>\n",
       "      <td>WESTERMAN, HATTORI, DANIELS &amp; ADRIAN, LLP</td>\n",
       "      <td>Interpreters and Translators</td>\n",
       "      <td>RESEARCH ANALYST / LEGAL TRANSLATOR</td>\n",
       "      <td>Y</td>\n",
       "      <td>2011.0</td>\n",
       "      <td>WASHINGTON, DISTRICT OF COLUMBIA</td>\n",
       "      <td>VERY LOW</td>\n",
       "    </tr>\n",
       "  </tbody>\n",
       "</table>\n",
       "</div>"
      ],
      "text/plain": [
       "        CASE_STATUS                              EMPLOYER_NAME  \\\n",
       "1022566   CERTIFIED                             TECHIZEE, INC.   \n",
       "962549    CERTIFIED               CONNVERTEX TECHNOLOGIES INC.   \n",
       "370678    CERTIFIED                      HQ TECH SOLUTIONS LLC   \n",
       "1987954   CERTIFIED                     ERNST & YOUNG U.S. LLP   \n",
       "2692234   CERTIFIED  WESTERMAN, HATTORI, DANIELS & ADRIAN, LLP   \n",
       "\n",
       "                                  SOC_NAME  \\\n",
       "1022566          COMPUTER SYSTEMS ANALYSTS   \n",
       "962549                COMPUTER PROGRAMMERS   \n",
       "370678   SOFTWARE DEVELOPERS, APPLICATIONS   \n",
       "1987954           Accountants and Auditors   \n",
       "2692234       Interpreters and Translators   \n",
       "\n",
       "                                   JOB_TITLE FULL_TIME_POSITION    YEAR  \\\n",
       "1022566              COMPUTER SYSTEM ANALYST                  Y  2015.0   \n",
       "962549         COMPUTER PROGRAMMER/DEVELOPER                  Y  2015.0   \n",
       "370678               HEALTHCARE DATA ANALYST                  N  2016.0   \n",
       "1987954                      ASSURANCE STAFF                  Y  2013.0   \n",
       "2692234  RESEARCH ANALYST / LEGAL TRANSLATOR                  Y  2011.0   \n",
       "\n",
       "                                 WORKSITE      WAGE  \n",
       "1022566              SOMERSET, NEW JERSEY       LOW  \n",
       "962549             BISMARCK, NORTH DAKOTA  VERY LOW  \n",
       "370678         WEST HARTFORD, CONNECTICUT       LOW  \n",
       "1987954         SAN FRANCISCO, CALIFORNIA       LOW  \n",
       "2692234  WASHINGTON, DISTRICT OF COLUMBIA  VERY LOW  "
      ]
     },
     "execution_count": 36,
     "metadata": {},
     "output_type": "execute_result"
    }
   ],
   "source": [
    "df_downsampled.head()"
   ]
  },
  {
   "cell_type": "markdown",
   "metadata": {},
   "source": [
    "## Ratio_of_acceptance for \"Employer_Name, SOC_Name and Job_Title\""
   ]
  },
  {
   "cell_type": "raw",
   "metadata": {},
   "source": [
    "The number of unique employers, job categories and job titles in the down sampled data are huge,\n",
    "hence we analysed the data and created a feature named EMPLOYER_ACCEPTANCE,SOC_ACCEPTANCE and JOB_ACCEPTANCE respectively.\n",
    "To calculate the ratio values, we found the ratio of the certified samples vs thetotal samples of each kind."
   ]
  },
  {
   "cell_type": "code",
   "execution_count": 37,
   "metadata": {},
   "outputs": [],
   "source": [
    "def category_visa_approval(ratio_of_acceptance):\n",
    "    if ratio_of_acceptance == -1:\n",
    "        return \"NA\"\n",
    "    elif ratio_of_acceptance >=0.0 and ratio_of_acceptance<0.20:\n",
    "        return \"VLA\" #VERY LOW ACCEPTANCE\n",
    "    elif ratio_of_acceptance>=0.20 and ratio_of_acceptance<0.40:\n",
    "        return \"LA\" #LOW ACCEPTANCE\n",
    "    elif ratio_of_acceptance>=0.40 and ratio_of_acceptance<0.60:\n",
    "        return \"MA\" #MEDIUM ACCEPTANCE\n",
    "    elif ratio_of_acceptance>=0.60 and ratio_of_acceptance<0.80:\n",
    "        return \"HA\" #HIGH ACCEPTANCE\n",
    "    elif ratio_of_acceptance>=0.80:\n",
    "        return \"VHA\" #VERY HIGH ACCEPTANCE"
   ]
  },
  {
   "cell_type": "code",
   "execution_count": 38,
   "metadata": {},
   "outputs": [],
   "source": [
    "df_downsampled_1en = df_downsampled.loc[:,['EMPLOYER_NAME', 'CASE_STATUS']]\n",
    "df_downsampled_1sn = df_downsampled.loc[:,['SOC_NAME', 'CASE_STATUS']]\n",
    "df_downsampled_1jt = df_downsampled.loc[:,['JOB_TITLE', 'CASE_STATUS']]"
   ]
  },
  {
   "cell_type": "code",
   "execution_count": 39,
   "metadata": {},
   "outputs": [],
   "source": [
    "df_downsampled_2_en = df_downsampled_1en[df_downsampled_1en.CASE_STATUS == 'CERTIFIED'].EMPLOYER_NAME\n",
    "df_downsampled_2_sn = df_downsampled_1sn[df_downsampled_1sn.CASE_STATUS == 'CERTIFIED'].SOC_NAME\n",
    "df_downsampled_2_jt = df_downsampled_1jt[df_downsampled_1jt.CASE_STATUS == 'CERTIFIED'].JOB_TITLE\n",
    "\n",
    "positive_counts_en = df_downsampled_2_en.value_counts()\n",
    "positive_counts_sn = df_downsampled_2_sn.value_counts()\n",
    "positive_counts_jt = df_downsampled_2_jt.value_counts()"
   ]
  },
  {
   "cell_type": "raw",
   "metadata": {},
   "source": [
    "Positive_count is count of each kind with respect to certified case status"
   ]
  },
  {
   "cell_type": "code",
   "execution_count": 40,
   "metadata": {},
   "outputs": [],
   "source": [
    "total_counts_en = df_downsampled_1en.EMPLOYER_NAME.value_counts()\n",
    "total_counts_sn = df_downsampled_1sn.SOC_NAME.value_counts()\n",
    "total_counts_jt = df_downsampled_1jt.JOB_TITLE.value_counts()"
   ]
  },
  {
   "cell_type": "raw",
   "metadata": {},
   "source": [
    "Total_count is count of each kinds(Employee name, SOC name, job title) with respect to all categories of \n",
    "case status that is certified & denied.\n",
    "And we are going to find a final ratio between these columns to get acceptance records based on categories, \n",
    "namely-\n",
    "VLA,LA,MA,HA,VHA.\n"
   ]
  },
  {
   "cell_type": "code",
   "execution_count": 41,
   "metadata": {},
   "outputs": [],
   "source": [
    "#final acceptance ratio calculation for EMPLOYER_NNAME\n",
    "\n",
    "final_ratio_series_en = positive_counts_en / total_counts_en\n",
    "\n",
    "final_ratio_series_en.fillna(-1, inplace=True)\n",
    "final_classification_employer = final_ratio_series_en.apply(category_visa_approval)\n",
    "df_downsampled['EMPLOYER_ACCEPTANCE'] = df_downsampled.EMPLOYER_NAME.map(final_classification_employer)"
   ]
  },
  {
   "cell_type": "code",
   "execution_count": 42,
   "metadata": {},
   "outputs": [],
   "source": [
    "#final acceptance ratio calculation for SOC_NAME\n",
    "\n",
    "final_ratio_series_sn = positive_counts_sn / total_counts_sn\n",
    "\n",
    "final_ratio_series_sn.fillna(-1, inplace=True)\n",
    "final_classification_soc = final_ratio_series_sn.apply(category_visa_approval)\n",
    "df_downsampled['SOC_ACCEPTANCE'] = df_downsampled.SOC_NAME.map(final_classification_soc)"
   ]
  },
  {
   "cell_type": "code",
   "execution_count": 43,
   "metadata": {},
   "outputs": [],
   "source": [
    "#final acceptance ratio calculation for JOB_TITLE\n",
    "\n",
    "final_ratio_series_jt = positive_counts_jt / total_counts_jt\n",
    "\n",
    "final_ratio_series_jt.fillna(-1, inplace=True)\n",
    "final_classification_job = final_ratio_series_jt.apply(category_visa_approval)\n",
    "df_downsampled['JOB_ACCEPTANCE'] = df_downsampled.JOB_TITLE.map(final_classification_job)\n",
    "\n"
   ]
  },
  {
   "cell_type": "code",
   "execution_count": 44,
   "metadata": {
    "scrolled": true
   },
   "outputs": [
    {
     "name": "stdout",
     "output_type": "stream",
     "text": [
      "Case Status  2\n",
      "Unique Employers  6\n",
      "Wages  5\n",
      "Unique SOCs  6\n",
      "Unique Job Titles  6\n",
      "Unique Filing Year  6\n",
      "Unique Worksite State  8606\n",
      "Unique Full time positions  2\n"
     ]
    }
   ],
   "source": [
    "print(\"Case Status \",df_downsampled.CASE_STATUS.nunique())\n",
    "print(\"Unique Employers \",df_downsampled.EMPLOYER_ACCEPTANCE.nunique())\n",
    "print(\"Wages \",df_downsampled.WAGE.nunique())\n",
    "print(\"Unique SOCs \", df_downsampled.SOC_ACCEPTANCE.nunique())\n",
    "print(\"Unique Job Titles \",df_downsampled.JOB_ACCEPTANCE.nunique())\n",
    "print(\"Unique Filing Year \",df_downsampled.YEAR.nunique())\n",
    "print(\"Unique Worksite State \",df_downsampled.WORKSITE.nunique())\n",
    "print(\"Unique Full time positions \", df_downsampled.FULL_TIME_POSITION.nunique())"
   ]
  },
  {
   "cell_type": "code",
   "execution_count": 45,
   "metadata": {
    "scrolled": true
   },
   "outputs": [
    {
     "data": {
      "text/html": [
       "<div>\n",
       "<style scoped>\n",
       "    .dataframe tbody tr th:only-of-type {\n",
       "        vertical-align: middle;\n",
       "    }\n",
       "\n",
       "    .dataframe tbody tr th {\n",
       "        vertical-align: top;\n",
       "    }\n",
       "\n",
       "    .dataframe thead th {\n",
       "        text-align: right;\n",
       "    }\n",
       "</style>\n",
       "<table border=\"1\" class=\"dataframe\">\n",
       "  <thead>\n",
       "    <tr style=\"text-align: right;\">\n",
       "      <th></th>\n",
       "      <th>CASE_STATUS</th>\n",
       "      <th>EMPLOYER_NAME</th>\n",
       "      <th>SOC_NAME</th>\n",
       "      <th>JOB_TITLE</th>\n",
       "      <th>FULL_TIME_POSITION</th>\n",
       "      <th>YEAR</th>\n",
       "      <th>WORKSITE</th>\n",
       "      <th>WAGE</th>\n",
       "      <th>EMPLOYER_ACCEPTANCE</th>\n",
       "      <th>SOC_ACCEPTANCE</th>\n",
       "      <th>JOB_ACCEPTANCE</th>\n",
       "    </tr>\n",
       "  </thead>\n",
       "  <tbody>\n",
       "    <tr>\n",
       "      <th>1022566</th>\n",
       "      <td>CERTIFIED</td>\n",
       "      <td>TECHIZEE, INC.</td>\n",
       "      <td>COMPUTER SYSTEMS ANALYSTS</td>\n",
       "      <td>COMPUTER SYSTEM ANALYST</td>\n",
       "      <td>Y</td>\n",
       "      <td>2015.0</td>\n",
       "      <td>SOMERSET, NEW JERSEY</td>\n",
       "      <td>LOW</td>\n",
       "      <td>VHA</td>\n",
       "      <td>VHA</td>\n",
       "      <td>MA</td>\n",
       "    </tr>\n",
       "    <tr>\n",
       "      <th>962549</th>\n",
       "      <td>CERTIFIED</td>\n",
       "      <td>CONNVERTEX TECHNOLOGIES INC.</td>\n",
       "      <td>COMPUTER PROGRAMMERS</td>\n",
       "      <td>COMPUTER PROGRAMMER/DEVELOPER</td>\n",
       "      <td>Y</td>\n",
       "      <td>2015.0</td>\n",
       "      <td>BISMARCK, NORTH DAKOTA</td>\n",
       "      <td>VERY LOW</td>\n",
       "      <td>HA</td>\n",
       "      <td>VHA</td>\n",
       "      <td>HA</td>\n",
       "    </tr>\n",
       "    <tr>\n",
       "      <th>370678</th>\n",
       "      <td>CERTIFIED</td>\n",
       "      <td>HQ TECH SOLUTIONS LLC</td>\n",
       "      <td>SOFTWARE DEVELOPERS, APPLICATIONS</td>\n",
       "      <td>HEALTHCARE DATA ANALYST</td>\n",
       "      <td>N</td>\n",
       "      <td>2016.0</td>\n",
       "      <td>WEST HARTFORD, CONNECTICUT</td>\n",
       "      <td>LOW</td>\n",
       "      <td>VHA</td>\n",
       "      <td>VHA</td>\n",
       "      <td>HA</td>\n",
       "    </tr>\n",
       "    <tr>\n",
       "      <th>1987954</th>\n",
       "      <td>CERTIFIED</td>\n",
       "      <td>ERNST &amp; YOUNG U.S. LLP</td>\n",
       "      <td>Accountants and Auditors</td>\n",
       "      <td>ASSURANCE STAFF</td>\n",
       "      <td>Y</td>\n",
       "      <td>2013.0</td>\n",
       "      <td>SAN FRANCISCO, CALIFORNIA</td>\n",
       "      <td>LOW</td>\n",
       "      <td>HA</td>\n",
       "      <td>LA</td>\n",
       "      <td>VHA</td>\n",
       "    </tr>\n",
       "    <tr>\n",
       "      <th>2692234</th>\n",
       "      <td>CERTIFIED</td>\n",
       "      <td>WESTERMAN, HATTORI, DANIELS &amp; ADRIAN, LLP</td>\n",
       "      <td>Interpreters and Translators</td>\n",
       "      <td>RESEARCH ANALYST / LEGAL TRANSLATOR</td>\n",
       "      <td>Y</td>\n",
       "      <td>2011.0</td>\n",
       "      <td>WASHINGTON, DISTRICT OF COLUMBIA</td>\n",
       "      <td>VERY LOW</td>\n",
       "      <td>VHA</td>\n",
       "      <td>LA</td>\n",
       "      <td>VHA</td>\n",
       "    </tr>\n",
       "  </tbody>\n",
       "</table>\n",
       "</div>"
      ],
      "text/plain": [
       "        CASE_STATUS                              EMPLOYER_NAME  \\\n",
       "1022566   CERTIFIED                             TECHIZEE, INC.   \n",
       "962549    CERTIFIED               CONNVERTEX TECHNOLOGIES INC.   \n",
       "370678    CERTIFIED                      HQ TECH SOLUTIONS LLC   \n",
       "1987954   CERTIFIED                     ERNST & YOUNG U.S. LLP   \n",
       "2692234   CERTIFIED  WESTERMAN, HATTORI, DANIELS & ADRIAN, LLP   \n",
       "\n",
       "                                  SOC_NAME  \\\n",
       "1022566          COMPUTER SYSTEMS ANALYSTS   \n",
       "962549                COMPUTER PROGRAMMERS   \n",
       "370678   SOFTWARE DEVELOPERS, APPLICATIONS   \n",
       "1987954           Accountants and Auditors   \n",
       "2692234       Interpreters and Translators   \n",
       "\n",
       "                                   JOB_TITLE FULL_TIME_POSITION    YEAR  \\\n",
       "1022566              COMPUTER SYSTEM ANALYST                  Y  2015.0   \n",
       "962549         COMPUTER PROGRAMMER/DEVELOPER                  Y  2015.0   \n",
       "370678               HEALTHCARE DATA ANALYST                  N  2016.0   \n",
       "1987954                      ASSURANCE STAFF                  Y  2013.0   \n",
       "2692234  RESEARCH ANALYST / LEGAL TRANSLATOR                  Y  2011.0   \n",
       "\n",
       "                                 WORKSITE      WAGE EMPLOYER_ACCEPTANCE  \\\n",
       "1022566              SOMERSET, NEW JERSEY       LOW                 VHA   \n",
       "962549             BISMARCK, NORTH DAKOTA  VERY LOW                  HA   \n",
       "370678         WEST HARTFORD, CONNECTICUT       LOW                 VHA   \n",
       "1987954         SAN FRANCISCO, CALIFORNIA       LOW                  HA   \n",
       "2692234  WASHINGTON, DISTRICT OF COLUMBIA  VERY LOW                 VHA   \n",
       "\n",
       "        SOC_ACCEPTANCE JOB_ACCEPTANCE  \n",
       "1022566            VHA             MA  \n",
       "962549             VHA             HA  \n",
       "370678             VHA             HA  \n",
       "1987954             LA            VHA  \n",
       "2692234             LA            VHA  "
      ]
     },
     "execution_count": 45,
     "metadata": {},
     "output_type": "execute_result"
    }
   ],
   "source": [
    "df_downsampled.head()"
   ]
  },
  {
   "cell_type": "code",
   "execution_count": 46,
   "metadata": {},
   "outputs": [],
   "source": [
    "#dropping columns\n",
    "df_downsampled.drop(columns = ['EMPLOYER_NAME','SOC_NAME','JOB_TITLE'], inplace = True)"
   ]
  },
  {
   "cell_type": "code",
   "execution_count": 47,
   "metadata": {
    "scrolled": true
   },
   "outputs": [
    {
     "data": {
      "text/plain": [
       "Index(['CASE_STATUS', 'FULL_TIME_POSITION', 'YEAR', 'WORKSITE', 'WAGE',\n",
       "       'EMPLOYER_ACCEPTANCE', 'SOC_ACCEPTANCE', 'JOB_ACCEPTANCE'],\n",
       "      dtype='object')"
      ]
     },
     "execution_count": 47,
     "metadata": {},
     "output_type": "execute_result"
    }
   ],
   "source": [
    "df_downsampled.columns"
   ]
  },
  {
   "cell_type": "markdown",
   "metadata": {},
   "source": [
    "## downsampling  'WORKSITE'"
   ]
  },
  {
   "cell_type": "code",
   "execution_count": 48,
   "metadata": {
    "scrolled": false
   },
   "outputs": [
    {
     "data": {
      "text/plain": [
       "8606"
      ]
     },
     "execution_count": 48,
     "metadata": {},
     "output_type": "execute_result"
    }
   ],
   "source": [
    "df_downsampled['WORKSITE'].nunique()"
   ]
  },
  {
   "cell_type": "code",
   "execution_count": 49,
   "metadata": {},
   "outputs": [],
   "source": [
    "def state_extractor(work_site):\n",
    "    return work_site.split(', ')[1]"
   ]
  },
  {
   "cell_type": "code",
   "execution_count": 50,
   "metadata": {},
   "outputs": [],
   "source": [
    "df_downsampled['WORKSITE'] = df_downsampled['WORKSITE'].apply(state_extractor)"
   ]
  },
  {
   "cell_type": "code",
   "execution_count": 51,
   "metadata": {},
   "outputs": [
    {
     "data": {
      "text/plain": [
       "array(['NEW JERSEY', 'NORTH DAKOTA', 'CONNECTICUT', 'CALIFORNIA',\n",
       "       'DISTRICT OF COLUMBIA', 'INDIANA', 'NEW YORK', 'MICHIGAN',\n",
       "       'GEORGIA', 'TEXAS', 'ILLINOIS', 'DELAWARE', 'ARIZONA',\n",
       "       'MASSACHUSETTS', 'PENNSYLVANIA', 'OHIO', 'KANSAS', 'LOUISIANA',\n",
       "       'COLORADO', 'NORTH CAROLINA', 'FLORIDA', 'IOWA', 'WASHINGTON',\n",
       "       'VIRGINIA', 'WISCONSIN', 'PUERTO RICO', 'MISSOURI', 'MARYLAND',\n",
       "       'SOUTH CAROLINA', 'MONTANA', 'MINNESOTA', 'ARKANSAS', 'ALASKA',\n",
       "       'VERMONT', 'OREGON', 'TENNESSEE', 'RHODE ISLAND', 'KENTUCKY',\n",
       "       'SOUTH DAKOTA', 'NEBRASKA', 'MISSISSIPPI', 'UTAH', 'NEW MEXICO',\n",
       "       'ALABAMA', 'NEVADA', 'OKLAHOMA', 'MAINE', 'NEW HAMPSHIRE',\n",
       "       'WEST VIRGINIA', 'HAWAII', 'IDAHO', 'NA', 'WYOMING'], dtype=object)"
      ]
     },
     "execution_count": 51,
     "metadata": {},
     "output_type": "execute_result"
    }
   ],
   "source": [
    "df_downsampled['WORKSITE'].unique()\n",
    "#df_downsampled['WORKSITE'].unique()"
   ]
  },
  {
   "cell_type": "markdown",
   "metadata": {},
   "source": [
    "## Enconding remaining columns "
   ]
  },
  {
   "cell_type": "code",
   "execution_count": 52,
   "metadata": {},
   "outputs": [],
   "source": [
    "from sklearn.compose import ColumnTransformer\n",
    "from sklearn.preprocessing import OneHotEncoder\n",
    "from sklearn.preprocessing import LabelEncoder "
   ]
  },
  {
   "cell_type": "code",
   "execution_count": 53,
   "metadata": {},
   "outputs": [
    {
     "data": {
      "text/plain": [
       "\"\\ndf_downsampled['WAGE']=lb.fit_transform(df_downsampled['WAGE'])\\ndf_downsampled['EMPLOYER_ACCEPTANCE']=lb.fit_transform(df_downsampled['EMPLOYER_ACCEPTANCE'])\\ndf_downsampled['SOC_ACCEPTANCE']=lb.fit_transform(df_downsampled['SOC_ACCEPTANCE'])\\ndf_downsampled['JOB_ACCEPTANCE']=lb.fit_transform(df_downsampled['JOB_ACCEPTANCE'])\\ndf_downsampled['YEAR']=lb.fit_transform(df_downsampled['YEAR'])\\ndf_downsampled['WORKSITE']=lb.fit_transform(df_downsampled['WORKSITE'])\\n\""
      ]
     },
     "execution_count": 53,
     "metadata": {},
     "output_type": "execute_result"
    }
   ],
   "source": [
    "lb=LabelEncoder()\n",
    "\n",
    "df_downsampled['CASE_STATUS']=lb.fit_transform(df_downsampled['CASE_STATUS'])\n",
    "df_downsampled['FULL_TIME_POSITION']=lb.fit_transform(df_downsampled['FULL_TIME_POSITION'])\n",
    "\n",
    "'''\n",
    "df_downsampled['WAGE']=lb.fit_transform(df_downsampled['WAGE'])\n",
    "df_downsampled['EMPLOYER_ACCEPTANCE']=lb.fit_transform(df_downsampled['EMPLOYER_ACCEPTANCE'])\n",
    "df_downsampled['SOC_ACCEPTANCE']=lb.fit_transform(df_downsampled['SOC_ACCEPTANCE'])\n",
    "df_downsampled['JOB_ACCEPTANCE']=lb.fit_transform(df_downsampled['JOB_ACCEPTANCE'])\n",
    "df_downsampled['YEAR']=lb.fit_transform(df_downsampled['YEAR'])\n",
    "df_downsampled['WORKSITE']=lb.fit_transform(df_downsampled['WORKSITE'])\n",
    "'''"
   ]
  },
  {
   "cell_type": "code",
   "execution_count": 54,
   "metadata": {
    "scrolled": true
   },
   "outputs": [
    {
     "data": {
      "text/html": [
       "<div>\n",
       "<style scoped>\n",
       "    .dataframe tbody tr th:only-of-type {\n",
       "        vertical-align: middle;\n",
       "    }\n",
       "\n",
       "    .dataframe tbody tr th {\n",
       "        vertical-align: top;\n",
       "    }\n",
       "\n",
       "    .dataframe thead th {\n",
       "        text-align: right;\n",
       "    }\n",
       "</style>\n",
       "<table border=\"1\" class=\"dataframe\">\n",
       "  <thead>\n",
       "    <tr style=\"text-align: right;\">\n",
       "      <th></th>\n",
       "      <th>CASE_STATUS</th>\n",
       "      <th>FULL_TIME_POSITION</th>\n",
       "      <th>YEAR</th>\n",
       "      <th>WORKSITE</th>\n",
       "      <th>WAGE</th>\n",
       "      <th>EMPLOYER_ACCEPTANCE</th>\n",
       "      <th>SOC_ACCEPTANCE</th>\n",
       "      <th>JOB_ACCEPTANCE</th>\n",
       "    </tr>\n",
       "  </thead>\n",
       "  <tbody>\n",
       "    <tr>\n",
       "      <th>1022566</th>\n",
       "      <td>0</td>\n",
       "      <td>1</td>\n",
       "      <td>2015.0</td>\n",
       "      <td>NEW JERSEY</td>\n",
       "      <td>LOW</td>\n",
       "      <td>VHA</td>\n",
       "      <td>VHA</td>\n",
       "      <td>MA</td>\n",
       "    </tr>\n",
       "    <tr>\n",
       "      <th>962549</th>\n",
       "      <td>0</td>\n",
       "      <td>1</td>\n",
       "      <td>2015.0</td>\n",
       "      <td>NORTH DAKOTA</td>\n",
       "      <td>VERY LOW</td>\n",
       "      <td>HA</td>\n",
       "      <td>VHA</td>\n",
       "      <td>HA</td>\n",
       "    </tr>\n",
       "    <tr>\n",
       "      <th>370678</th>\n",
       "      <td>0</td>\n",
       "      <td>0</td>\n",
       "      <td>2016.0</td>\n",
       "      <td>CONNECTICUT</td>\n",
       "      <td>LOW</td>\n",
       "      <td>VHA</td>\n",
       "      <td>VHA</td>\n",
       "      <td>HA</td>\n",
       "    </tr>\n",
       "    <tr>\n",
       "      <th>1987954</th>\n",
       "      <td>0</td>\n",
       "      <td>1</td>\n",
       "      <td>2013.0</td>\n",
       "      <td>CALIFORNIA</td>\n",
       "      <td>LOW</td>\n",
       "      <td>HA</td>\n",
       "      <td>LA</td>\n",
       "      <td>VHA</td>\n",
       "    </tr>\n",
       "    <tr>\n",
       "      <th>2692234</th>\n",
       "      <td>0</td>\n",
       "      <td>1</td>\n",
       "      <td>2011.0</td>\n",
       "      <td>DISTRICT OF COLUMBIA</td>\n",
       "      <td>VERY LOW</td>\n",
       "      <td>VHA</td>\n",
       "      <td>LA</td>\n",
       "      <td>VHA</td>\n",
       "    </tr>\n",
       "  </tbody>\n",
       "</table>\n",
       "</div>"
      ],
      "text/plain": [
       "         CASE_STATUS  FULL_TIME_POSITION    YEAR              WORKSITE  \\\n",
       "1022566            0                   1  2015.0            NEW JERSEY   \n",
       "962549             0                   1  2015.0          NORTH DAKOTA   \n",
       "370678             0                   0  2016.0           CONNECTICUT   \n",
       "1987954            0                   1  2013.0            CALIFORNIA   \n",
       "2692234            0                   1  2011.0  DISTRICT OF COLUMBIA   \n",
       "\n",
       "             WAGE EMPLOYER_ACCEPTANCE SOC_ACCEPTANCE JOB_ACCEPTANCE  \n",
       "1022566       LOW                 VHA            VHA             MA  \n",
       "962549   VERY LOW                  HA            VHA             HA  \n",
       "370678        LOW                 VHA            VHA             HA  \n",
       "1987954       LOW                  HA             LA            VHA  \n",
       "2692234  VERY LOW                 VHA             LA            VHA  "
      ]
     },
     "execution_count": 54,
     "metadata": {},
     "output_type": "execute_result"
    }
   ],
   "source": [
    "df_downsampled.head()"
   ]
  },
  {
   "cell_type": "code",
   "execution_count": 55,
   "metadata": {},
   "outputs": [
    {
     "data": {
      "text/html": [
       "<div>\n",
       "<style scoped>\n",
       "    .dataframe tbody tr th:only-of-type {\n",
       "        vertical-align: middle;\n",
       "    }\n",
       "\n",
       "    .dataframe tbody tr th {\n",
       "        vertical-align: top;\n",
       "    }\n",
       "\n",
       "    .dataframe thead th {\n",
       "        text-align: right;\n",
       "    }\n",
       "</style>\n",
       "<table border=\"1\" class=\"dataframe\">\n",
       "  <thead>\n",
       "    <tr style=\"text-align: right;\">\n",
       "      <th></th>\n",
       "      <th>CASE_STATUS</th>\n",
       "      <th>YEAR_2012.0</th>\n",
       "      <th>YEAR_2013.0</th>\n",
       "      <th>YEAR_2014.0</th>\n",
       "      <th>YEAR_2015.0</th>\n",
       "      <th>YEAR_2016.0</th>\n",
       "      <th>FULL_TIME_POSITION_1</th>\n",
       "      <th>WAGE_LOW</th>\n",
       "      <th>WAGE_MEDIUM</th>\n",
       "      <th>WAGE_VERY HIGH</th>\n",
       "      <th>...</th>\n",
       "      <th>WORKSITE_SOUTH DAKOTA</th>\n",
       "      <th>WORKSITE_TENNESSEE</th>\n",
       "      <th>WORKSITE_TEXAS</th>\n",
       "      <th>WORKSITE_UTAH</th>\n",
       "      <th>WORKSITE_VERMONT</th>\n",
       "      <th>WORKSITE_VIRGINIA</th>\n",
       "      <th>WORKSITE_WASHINGTON</th>\n",
       "      <th>WORKSITE_WEST VIRGINIA</th>\n",
       "      <th>WORKSITE_WISCONSIN</th>\n",
       "      <th>WORKSITE_WYOMING</th>\n",
       "    </tr>\n",
       "  </thead>\n",
       "  <tbody>\n",
       "    <tr>\n",
       "      <th>1022566</th>\n",
       "      <td>0</td>\n",
       "      <td>0</td>\n",
       "      <td>0</td>\n",
       "      <td>0</td>\n",
       "      <td>1</td>\n",
       "      <td>0</td>\n",
       "      <td>1</td>\n",
       "      <td>1</td>\n",
       "      <td>0</td>\n",
       "      <td>0</td>\n",
       "      <td>...</td>\n",
       "      <td>0</td>\n",
       "      <td>0</td>\n",
       "      <td>0</td>\n",
       "      <td>0</td>\n",
       "      <td>0</td>\n",
       "      <td>0</td>\n",
       "      <td>0</td>\n",
       "      <td>0</td>\n",
       "      <td>0</td>\n",
       "      <td>0</td>\n",
       "    </tr>\n",
       "    <tr>\n",
       "      <th>962549</th>\n",
       "      <td>0</td>\n",
       "      <td>0</td>\n",
       "      <td>0</td>\n",
       "      <td>0</td>\n",
       "      <td>1</td>\n",
       "      <td>0</td>\n",
       "      <td>1</td>\n",
       "      <td>0</td>\n",
       "      <td>0</td>\n",
       "      <td>0</td>\n",
       "      <td>...</td>\n",
       "      <td>0</td>\n",
       "      <td>0</td>\n",
       "      <td>0</td>\n",
       "      <td>0</td>\n",
       "      <td>0</td>\n",
       "      <td>0</td>\n",
       "      <td>0</td>\n",
       "      <td>0</td>\n",
       "      <td>0</td>\n",
       "      <td>0</td>\n",
       "    </tr>\n",
       "    <tr>\n",
       "      <th>370678</th>\n",
       "      <td>0</td>\n",
       "      <td>0</td>\n",
       "      <td>0</td>\n",
       "      <td>0</td>\n",
       "      <td>0</td>\n",
       "      <td>1</td>\n",
       "      <td>0</td>\n",
       "      <td>1</td>\n",
       "      <td>0</td>\n",
       "      <td>0</td>\n",
       "      <td>...</td>\n",
       "      <td>0</td>\n",
       "      <td>0</td>\n",
       "      <td>0</td>\n",
       "      <td>0</td>\n",
       "      <td>0</td>\n",
       "      <td>0</td>\n",
       "      <td>0</td>\n",
       "      <td>0</td>\n",
       "      <td>0</td>\n",
       "      <td>0</td>\n",
       "    </tr>\n",
       "    <tr>\n",
       "      <th>1987954</th>\n",
       "      <td>0</td>\n",
       "      <td>0</td>\n",
       "      <td>1</td>\n",
       "      <td>0</td>\n",
       "      <td>0</td>\n",
       "      <td>0</td>\n",
       "      <td>1</td>\n",
       "      <td>1</td>\n",
       "      <td>0</td>\n",
       "      <td>0</td>\n",
       "      <td>...</td>\n",
       "      <td>0</td>\n",
       "      <td>0</td>\n",
       "      <td>0</td>\n",
       "      <td>0</td>\n",
       "      <td>0</td>\n",
       "      <td>0</td>\n",
       "      <td>0</td>\n",
       "      <td>0</td>\n",
       "      <td>0</td>\n",
       "      <td>0</td>\n",
       "    </tr>\n",
       "    <tr>\n",
       "      <th>2692234</th>\n",
       "      <td>0</td>\n",
       "      <td>0</td>\n",
       "      <td>0</td>\n",
       "      <td>0</td>\n",
       "      <td>0</td>\n",
       "      <td>0</td>\n",
       "      <td>1</td>\n",
       "      <td>0</td>\n",
       "      <td>0</td>\n",
       "      <td>0</td>\n",
       "      <td>...</td>\n",
       "      <td>0</td>\n",
       "      <td>0</td>\n",
       "      <td>0</td>\n",
       "      <td>0</td>\n",
       "      <td>0</td>\n",
       "      <td>0</td>\n",
       "      <td>0</td>\n",
       "      <td>0</td>\n",
       "      <td>0</td>\n",
       "      <td>0</td>\n",
       "    </tr>\n",
       "  </tbody>\n",
       "</table>\n",
       "<p>5 rows × 78 columns</p>\n",
       "</div>"
      ],
      "text/plain": [
       "         CASE_STATUS  YEAR_2012.0  YEAR_2013.0  YEAR_2014.0  YEAR_2015.0  \\\n",
       "1022566            0            0            0            0            1   \n",
       "962549             0            0            0            0            1   \n",
       "370678             0            0            0            0            0   \n",
       "1987954            0            0            1            0            0   \n",
       "2692234            0            0            0            0            0   \n",
       "\n",
       "         YEAR_2016.0  FULL_TIME_POSITION_1  WAGE_LOW  WAGE_MEDIUM  \\\n",
       "1022566            0                     1         1            0   \n",
       "962549             0                     1         0            0   \n",
       "370678             1                     0         1            0   \n",
       "1987954            0                     1         1            0   \n",
       "2692234            0                     1         0            0   \n",
       "\n",
       "         WAGE_VERY HIGH  ...  WORKSITE_SOUTH DAKOTA  WORKSITE_TENNESSEE  \\\n",
       "1022566               0  ...                      0                   0   \n",
       "962549                0  ...                      0                   0   \n",
       "370678                0  ...                      0                   0   \n",
       "1987954               0  ...                      0                   0   \n",
       "2692234               0  ...                      0                   0   \n",
       "\n",
       "         WORKSITE_TEXAS  WORKSITE_UTAH  WORKSITE_VERMONT  WORKSITE_VIRGINIA  \\\n",
       "1022566               0              0                 0                  0   \n",
       "962549                0              0                 0                  0   \n",
       "370678                0              0                 0                  0   \n",
       "1987954               0              0                 0                  0   \n",
       "2692234               0              0                 0                  0   \n",
       "\n",
       "         WORKSITE_WASHINGTON  WORKSITE_WEST VIRGINIA  WORKSITE_WISCONSIN  \\\n",
       "1022566                    0                       0                   0   \n",
       "962549                     0                       0                   0   \n",
       "370678                     0                       0                   0   \n",
       "1987954                    0                       0                   0   \n",
       "2692234                    0                       0                   0   \n",
       "\n",
       "         WORKSITE_WYOMING  \n",
       "1022566                 0  \n",
       "962549                  0  \n",
       "370678                  0  \n",
       "1987954                 0  \n",
       "2692234                 0  \n",
       "\n",
       "[5 rows x 78 columns]"
      ]
     },
     "execution_count": 55,
     "metadata": {},
     "output_type": "execute_result"
    }
   ],
   "source": [
    "#Applying One-hot encoding\n",
    "#Convert categorical variable into dummy/indicator variables.\n",
    "\n",
    "final_df = pd.get_dummies(df_downsampled, columns=['YEAR','FULL_TIME_POSITION', 'WAGE', 'EMPLOYER_ACCEPTANCE',\n",
    "                                                   'SOC_ACCEPTANCE','JOB_ACCEPTANCE','WORKSITE'], drop_first=True)\n",
    "final_df.head()\n",
    "\n"
   ]
  },
  {
   "cell_type": "markdown",
   "metadata": {},
   "source": [
    "## Feature Selection"
   ]
  },
  {
   "cell_type": "code",
   "execution_count": 56,
   "metadata": {},
   "outputs": [
    {
     "name": "stdout",
     "output_type": "stream",
     "text": [
      "['YEAR_2012.0', 'YEAR_2013.0', 'YEAR_2014.0', 'YEAR_2015.0', 'YEAR_2016.0', 'FULL_TIME_POSITION_1', 'WAGE_VERY HIGH', 'EMPLOYER_ACCEPTANCE_LA', 'EMPLOYER_ACCEPTANCE_MA', 'EMPLOYER_ACCEPTANCE_NA', 'EMPLOYER_ACCEPTANCE_VHA', 'EMPLOYER_ACCEPTANCE_VLA', 'SOC_ACCEPTANCE_LA', 'SOC_ACCEPTANCE_MA', 'SOC_ACCEPTANCE_NA', 'SOC_ACCEPTANCE_VLA', 'JOB_ACCEPTANCE_LA', 'JOB_ACCEPTANCE_MA', 'JOB_ACCEPTANCE_NA', 'JOB_ACCEPTANCE_VHA', 'JOB_ACCEPTANCE_VLA', 'WORKSITE_ALASKA', 'WORKSITE_ARKANSAS', 'WORKSITE_KENTUCKY', 'WORKSITE_MAINE', 'WORKSITE_MISSISSIPPI', 'WORKSITE_MONTANA', 'WORKSITE_NA', 'WORKSITE_OKLAHOMA', 'WORKSITE_WEST VIRGINIA']\n",
      "[ 1  1  1  1  1  1 19 41  1 15  1  1  1  1  1  1  1  1  7  1  1  1  1  1\n",
      "  1  1 22  1 33 42 26 13  2 12 29  6 27 45 35 36  4  1 37  1 31 23 34 30\n",
      "  1 39  1  1 38 46  5 32 17 48 18 43 21  1 11 47  3 16  9 44 25 28 10  8\n",
      " 24 14  1 40 20]\n"
     ]
    }
   ],
   "source": [
    "#Recursive Feature Elimination(RFE)\n",
    "\n",
    "from sklearn.linear_model import LogisticRegression\n",
    "from sklearn.feature_selection import RFE\n",
    "\n",
    "model = LogisticRegression()\n",
    "rfe = RFE(model, 30) #num_features_to_select= 30\n",
    "fit = rfe.fit(final_df.iloc[:,1:], final_df.iloc[:,0])\n",
    "support_rfe = rfe.support_\n",
    "length_cols = list(final_df.iloc[:,1:].columns.values)\n",
    "list_selected = []\n",
    "for index in range(len(length_cols)):\n",
    "    if support_rfe[index] == True:\n",
    "        list_selected.append(length_cols[index])\n",
    "    else:\n",
    "        pass\n",
    "print(list_selected)\n",
    "print(rfe.ranking_)     \n",
    "# rfe.ranking_ returns an array with positive integer values "
   ]
  },
  {
   "cell_type": "code",
   "execution_count": 57,
   "metadata": {},
   "outputs": [
    {
     "data": {
      "text/plain": [
       "['YEAR_2012.0',\n",
       " 'YEAR_2013.0',\n",
       " 'YEAR_2014.0',\n",
       " 'YEAR_2015.0',\n",
       " 'YEAR_2016.0',\n",
       " 'FULL_TIME_POSITION_1',\n",
       " 'WAGE_VERY HIGH',\n",
       " 'EMPLOYER_ACCEPTANCE_LA',\n",
       " 'EMPLOYER_ACCEPTANCE_MA',\n",
       " 'EMPLOYER_ACCEPTANCE_NA',\n",
       " 'EMPLOYER_ACCEPTANCE_VHA',\n",
       " 'EMPLOYER_ACCEPTANCE_VLA',\n",
       " 'SOC_ACCEPTANCE_LA',\n",
       " 'SOC_ACCEPTANCE_MA',\n",
       " 'SOC_ACCEPTANCE_NA',\n",
       " 'SOC_ACCEPTANCE_VLA',\n",
       " 'JOB_ACCEPTANCE_LA',\n",
       " 'JOB_ACCEPTANCE_MA',\n",
       " 'JOB_ACCEPTANCE_NA',\n",
       " 'JOB_ACCEPTANCE_VHA',\n",
       " 'JOB_ACCEPTANCE_VLA',\n",
       " 'WORKSITE_ALASKA',\n",
       " 'WORKSITE_ARKANSAS',\n",
       " 'WORKSITE_KENTUCKY',\n",
       " 'WORKSITE_MAINE',\n",
       " 'WORKSITE_MISSISSIPPI',\n",
       " 'WORKSITE_MONTANA',\n",
       " 'WORKSITE_NA',\n",
       " 'WORKSITE_OKLAHOMA',\n",
       " 'WORKSITE_WEST VIRGINIA']"
      ]
     },
     "execution_count": 57,
     "metadata": {},
     "output_type": "execute_result"
    }
   ],
   "source": [
    "list_selected"
   ]
  },
  {
   "cell_type": "code",
   "execution_count": 58,
   "metadata": {},
   "outputs": [
    {
     "data": {
      "text/plain": [
       "{'EMPLOYER', 'FULL', 'JOB', 'SOC', 'WAGE', 'WORKSITE', 'YEAR'}"
      ]
     },
     "execution_count": 58,
     "metadata": {},
     "output_type": "execute_result"
    }
   ],
   "source": [
    "unique_columns = [col.split('_')[0] for col in list_selected]\n",
    "set(unique_columns)"
   ]
  },
  {
   "cell_type": "markdown",
   "metadata": {},
   "source": [
    "## Separating independent & dependent variables"
   ]
  },
  {
   "cell_type": "code",
   "execution_count": 60,
   "metadata": {},
   "outputs": [
    {
     "data": {
      "text/plain": [
       "(250378, 77)"
      ]
     },
     "execution_count": 60,
     "metadata": {},
     "output_type": "execute_result"
    }
   ],
   "source": [
    "x = final_df.iloc[:,1:].values\n",
    "x.shape"
   ]
  },
  {
   "cell_type": "code",
   "execution_count": 61,
   "metadata": {},
   "outputs": [
    {
     "data": {
      "text/plain": [
       "(250378, 1)"
      ]
     },
     "execution_count": 61,
     "metadata": {},
     "output_type": "execute_result"
    }
   ],
   "source": [
    "y = final_df.iloc[:,0:1].values\n",
    "y.shape"
   ]
  },
  {
   "cell_type": "code",
   "execution_count": 62,
   "metadata": {},
   "outputs": [
    {
     "data": {
      "text/plain": [
       "array([[0, 0, 0, ..., 0, 0, 0],\n",
       "       [0, 0, 0, ..., 0, 0, 0],\n",
       "       [0, 0, 0, ..., 0, 0, 0],\n",
       "       ...,\n",
       "       [0, 0, 0, ..., 0, 0, 0],\n",
       "       [0, 0, 0, ..., 0, 0, 0],\n",
       "       [0, 0, 0, ..., 0, 0, 0]], dtype=uint8)"
      ]
     },
     "execution_count": 62,
     "metadata": {},
     "output_type": "execute_result"
    }
   ],
   "source": [
    "x"
   ]
  },
  {
   "cell_type": "code",
   "execution_count": 63,
   "metadata": {},
   "outputs": [
    {
     "data": {
      "text/plain": [
       "array([[0],\n",
       "       [0],\n",
       "       [0],\n",
       "       ...,\n",
       "       [1],\n",
       "       [1],\n",
       "       [1]])"
      ]
     },
     "execution_count": 63,
     "metadata": {},
     "output_type": "execute_result"
    }
   ],
   "source": [
    "y"
   ]
  },
  {
   "cell_type": "raw",
   "metadata": {
    "scrolled": true
   },
   "source": [
    "#plt.scatter(x[:,0],y)"
   ]
  },
  {
   "cell_type": "code",
   "execution_count": 64,
   "metadata": {},
   "outputs": [],
   "source": [
    "from sklearn.model_selection import train_test_split\n",
    "x_train,x_test,y_train,y_test=train_test_split(x,y,test_size=0.3,random_state=0)"
   ]
  },
  {
   "cell_type": "code",
   "execution_count": 65,
   "metadata": {},
   "outputs": [
    {
     "data": {
      "text/plain": [
       "(175264, 77)"
      ]
     },
     "execution_count": 65,
     "metadata": {},
     "output_type": "execute_result"
    }
   ],
   "source": [
    "x_train.shape"
   ]
  },
  {
   "cell_type": "markdown",
   "metadata": {},
   "source": [
    "# Model Building"
   ]
  },
  {
   "cell_type": "markdown",
   "metadata": {},
   "source": [
    "# Naive Bayes classification"
   ]
  },
  {
   "cell_type": "raw",
   "metadata": {},
   "source": [
    "Naive bayes is a simple probabilistic classifier model that converges quickly, which assumes that there exists features\n",
    "distribution which are independent of each other."
   ]
  },
  {
   "cell_type": "code",
   "execution_count": 66,
   "metadata": {},
   "outputs": [
    {
     "data": {
      "text/plain": [
       "Pipeline(memory=None,\n",
       "         steps=[('sc',\n",
       "                 StandardScaler(copy=True, with_mean=True, with_std=True)),\n",
       "                ('classifier', GaussianNB(priors=None, var_smoothing=1e-09))],\n",
       "         verbose=False)"
      ]
     },
     "execution_count": 66,
     "metadata": {},
     "output_type": "execute_result"
    }
   ],
   "source": [
    "from sklearn.naive_bayes import GaussianNB\n",
    "from sklearn.preprocessing import StandardScaler\n",
    "from sklearn.pipeline import Pipeline\n",
    "\n",
    "#applying standard scaling\n",
    "pipe = Pipeline([(\"sc\",StandardScaler()),\n",
    "                 (\"classifier\",GaussianNB())]) #Pipeline accepts list in form of tuple\n",
    "pipe.fit(x_train,y_train)"
   ]
  },
  {
   "cell_type": "markdown",
   "metadata": {},
   "source": [
    "# Save model"
   ]
  },
  {
   "cell_type": "code",
   "execution_count": 67,
   "metadata": {},
   "outputs": [
    {
     "data": {
      "text/plain": [
       "['visa_approval.save']"
      ]
     },
     "execution_count": 67,
     "metadata": {},
     "output_type": "execute_result"
    }
   ],
   "source": [
    "#saving model locally\n",
    "from joblib import dump\n",
    "dump(pipe,'visa_approval.save')"
   ]
  },
  {
   "cell_type": "markdown",
   "metadata": {},
   "source": [
    "# Model Evaluation"
   ]
  },
  {
   "cell_type": "code",
   "execution_count": 68,
   "metadata": {},
   "outputs": [
    {
     "data": {
      "text/plain": [
       "array([0, 0, 1, ..., 0, 0, 1])"
      ]
     },
     "execution_count": 68,
     "metadata": {},
     "output_type": "execute_result"
    }
   ],
   "source": [
    "y_pred= pipe.predict(x_test) \n",
    "y_pred"
   ]
  },
  {
   "cell_type": "code",
   "execution_count": 69,
   "metadata": {},
   "outputs": [
    {
     "data": {
      "text/plain": [
       "0.8645525467955375"
      ]
     },
     "execution_count": 69,
     "metadata": {},
     "output_type": "execute_result"
    }
   ],
   "source": [
    "#here we are calculating accuracy score\n",
    "#accuracy score = no.of correct predictions/ Total no of predictions\n",
    "from sklearn.metrics import accuracy_score\n",
    "accuracy_score(y_test,y_pred) "
   ]
  },
  {
   "cell_type": "code",
   "execution_count": 70,
   "metadata": {},
   "outputs": [
    {
     "data": {
      "text/plain": [
       "array([[45306,  1456],\n",
       "       [ 8718, 19634]], dtype=int64)"
      ]
     },
     "execution_count": 70,
     "metadata": {},
     "output_type": "execute_result"
    }
   ],
   "source": [
    "#ceating confusion matrix it shows ration between Actual class: Predicted class\n",
    "from sklearn.metrics import confusion_matrix\n",
    "cm = confusion_matrix(y_test,y_pred)\n",
    "cm"
   ]
  },
  {
   "cell_type": "raw",
   "metadata": {},
   "source": [
    "'''\n",
    "845607 are true positive, 27672 false positive\n",
    "505 are true negative, 14 are false negative.\n",
    "'''"
   ]
  },
  {
   "cell_type": "code",
   "execution_count": 71,
   "metadata": {},
   "outputs": [
    {
     "data": {
      "text/plain": [
       "0.8306860361068581"
      ]
     },
     "execution_count": 71,
     "metadata": {},
     "output_type": "execute_result"
    }
   ],
   "source": [
    "#AUC ROC curve\n",
    "import sklearn.metrics as metrics\n",
    "fpr,tpr,threshold = metrics.roc_curve(y_test,y_pred)\n",
    "roc_auc = metrics.auc(fpr,tpr)\n",
    "roc_auc"
   ]
  },
  {
   "cell_type": "code",
   "execution_count": 72,
   "metadata": {},
   "outputs": [
    {
     "data": {
      "text/plain": [
       "Text(0.5, 1.0, 'ROC curve')"
      ]
     },
     "execution_count": 72,
     "metadata": {},
     "output_type": "execute_result"
    },
    {
     "data": {
      "image/png": "[encoded data removed]",
      "text/plain": [
       "<Figure size 432x288 with 1 Axes>"
      ]
     },
     "metadata": {
      "needs_background": "light"
     },
     "output_type": "display_data"
    }
   ],
   "source": [
    "#roc_accuracy= 0.83 > 0.75 it is perfect distribution.\n",
    "plt.plot(fpr,tpr,label='AUC=%0.2f'% roc_auc)\n",
    "plt.legend(loc='lower right')\n",
    "plt.title('ROC curve')"
   ]
  },
  {
   "cell_type": "markdown",
   "metadata": {},
   "source": [
    "## Logistic Regression"
   ]
  },
  {
   "cell_type": "code",
   "execution_count": 73,
   "metadata": {},
   "outputs": [],
   "source": [
    "#As there is huge difference between independet variables hence we are applying feature scaling\n",
    "from sklearn.linear_model import LogisticRegression\n",
    "from sklearn.preprocessing import StandardScaler\n",
    "from sklearn.pipeline import Pipeline"
   ]
  },
  {
   "cell_type": "code",
   "execution_count": 74,
   "metadata": {},
   "outputs": [
    {
     "data": {
      "text/plain": [
       "Pipeline(memory=None,\n",
       "         steps=[('sc',\n",
       "                 StandardScaler(copy=True, with_mean=True, with_std=True)),\n",
       "                ('classifier',\n",
       "                 LogisticRegression(C=1.0, class_weight=None, dual=False,\n",
       "                                    fit_intercept=True, intercept_scaling=1,\n",
       "                                    l1_ratio=None, max_iter=100,\n",
       "                                    multi_class='auto', n_jobs=None,\n",
       "                                    penalty='l2', random_state=None,\n",
       "                                    solver='lbfgs', tol=0.0001, verbose=0,\n",
       "                                    warm_start=False))],\n",
       "         verbose=False)"
      ]
     },
     "execution_count": 74,
     "metadata": {},
     "output_type": "execute_result"
    }
   ],
   "source": [
    "pipe = Pipeline([(\"sc\",StandardScaler()),(\"classifier\",LogisticRegression())]) \n",
    "pipe.fit(x_train,y_train)"
   ]
  },
  {
   "cell_type": "code",
   "execution_count": 75,
   "metadata": {},
   "outputs": [
    {
     "data": {
      "text/plain": [
       "array([0, 0, 1, ..., 0, 0, 0])"
      ]
     },
     "execution_count": 75,
     "metadata": {},
     "output_type": "execute_result"
    }
   ],
   "source": [
    "y_pred= pipe.predict(x_test) \n",
    "y_pred"
   ]
  },
  {
   "cell_type": "code",
   "execution_count": 76,
   "metadata": {},
   "outputs": [
    {
     "data": {
      "text/plain": [
       "0.8913651250099848"
      ]
     },
     "execution_count": 76,
     "metadata": {},
     "output_type": "execute_result"
    }
   ],
   "source": [
    "from sklearn.metrics import accuracy_score\n",
    "accuracy_score(y_test,y_pred)"
   ]
  },
  {
   "cell_type": "code",
   "execution_count": null,
   "metadata": {},
   "outputs": [],
   "source": []
  },
  {
   "cell_type": "code",
   "execution_count": null,
   "metadata": {},
   "outputs": [],
   "source": []
  }
 ],
 "metadata": {
  "kernelspec": {
   "display_name": "Python 3",
   "language": "python",
   "name": "python3"
  },
  "language_info": {
   "codemirror_mode": {
    "name": "ipython",
    "version": 3
   },
   "file_extension": ".py",
   "mimetype": "text/x-python",
   "name": "python",
   "nbconvert_exporter": "python",
   "pygments_lexer": "ipython3",
   "version": "3.7.6"
  }
 },
 "nbformat": 4,
 "nbformat_minor": 4
}
