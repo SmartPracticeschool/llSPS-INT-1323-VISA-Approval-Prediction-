{
 "cells": [
  {
   "cell_type": "markdown",
   "metadata": {},
   "source": [
    "# Importing Libraries"
   ]
  },
  {
   "cell_type": "code",
   "execution_count": 1,
   "metadata": {},
   "outputs": [],
   "source": [
    "import numpy as np\n",
    "import pandas as pd\n",
    "import seaborn as sb\n",
    "import matplotlib.pyplot as plt\n",
    "%matplotlib inline"
   ]
  },
  {
   "cell_type": "markdown",
   "metadata": {},
   "source": [
    "# importing dataset"
   ]
  },
  {
   "cell_type": "code",
   "execution_count": 2,
   "metadata": {},
   "outputs": [],
   "source": [
    "df = pd.read_csv(\"h1b_kaggle.csv\")"
   ]
  },
  {
   "cell_type": "markdown",
   "metadata": {},
   "source": [
    "# Analysisng dataset"
   ]
  },
  {
   "cell_type": "code",
   "execution_count": 3,
   "metadata": {
    "scrolled": true
   },
   "outputs": [
    {
     "data": {
      "text/html": [
       "<div>\n",
       "<style scoped>\n",
       "    .dataframe tbody tr th:only-of-type {\n",
       "        vertical-align: middle;\n",
       "    }\n",
       "\n",
       "    .dataframe tbody tr th {\n",
       "        vertical-align: top;\n",
       "    }\n",
       "\n",
       "    .dataframe thead th {\n",
       "        text-align: right;\n",
       "    }\n",
       "</style>\n",
       "<table border=\"1\" class=\"dataframe\">\n",
       "  <thead>\n",
       "    <tr style=\"text-align: right;\">\n",
       "      <th></th>\n",
       "      <th>Unnamed: 0</th>\n",
       "      <th>CASE_STATUS</th>\n",
       "      <th>EMPLOYER_NAME</th>\n",
       "      <th>SOC_NAME</th>\n",
       "      <th>JOB_TITLE</th>\n",
       "      <th>FULL_TIME_POSITION</th>\n",
       "      <th>PREVAILING_WAGE</th>\n",
       "      <th>YEAR</th>\n",
       "      <th>WORKSITE</th>\n",
       "      <th>lon</th>\n",
       "      <th>lat</th>\n",
       "    </tr>\n",
       "  </thead>\n",
       "  <tbody>\n",
       "    <tr>\n",
       "      <th>0</th>\n",
       "      <td>1</td>\n",
       "      <td>CERTIFIED-WITHDRAWN</td>\n",
       "      <td>UNIVERSITY OF MICHIGAN</td>\n",
       "      <td>BIOCHEMISTS AND BIOPHYSICISTS</td>\n",
       "      <td>POSTDOCTORAL RESEARCH FELLOW</td>\n",
       "      <td>N</td>\n",
       "      <td>36067.0</td>\n",
       "      <td>2016.0</td>\n",
       "      <td>ANN ARBOR, MICHIGAN</td>\n",
       "      <td>-83.743038</td>\n",
       "      <td>42.280826</td>\n",
       "    </tr>\n",
       "    <tr>\n",
       "      <th>1</th>\n",
       "      <td>2</td>\n",
       "      <td>CERTIFIED-WITHDRAWN</td>\n",
       "      <td>GOODMAN NETWORKS, INC.</td>\n",
       "      <td>CHIEF EXECUTIVES</td>\n",
       "      <td>CHIEF OPERATING OFFICER</td>\n",
       "      <td>Y</td>\n",
       "      <td>242674.0</td>\n",
       "      <td>2016.0</td>\n",
       "      <td>PLANO, TEXAS</td>\n",
       "      <td>-96.698886</td>\n",
       "      <td>33.019843</td>\n",
       "    </tr>\n",
       "    <tr>\n",
       "      <th>2</th>\n",
       "      <td>3</td>\n",
       "      <td>CERTIFIED-WITHDRAWN</td>\n",
       "      <td>PORTS AMERICA GROUP, INC.</td>\n",
       "      <td>CHIEF EXECUTIVES</td>\n",
       "      <td>CHIEF PROCESS OFFICER</td>\n",
       "      <td>Y</td>\n",
       "      <td>193066.0</td>\n",
       "      <td>2016.0</td>\n",
       "      <td>JERSEY CITY, NEW JERSEY</td>\n",
       "      <td>-74.077642</td>\n",
       "      <td>40.728158</td>\n",
       "    </tr>\n",
       "    <tr>\n",
       "      <th>3</th>\n",
       "      <td>4</td>\n",
       "      <td>CERTIFIED-WITHDRAWN</td>\n",
       "      <td>GATES CORPORATION, A WHOLLY-OWNED SUBSIDIARY O...</td>\n",
       "      <td>CHIEF EXECUTIVES</td>\n",
       "      <td>REGIONAL PRESIDEN, AMERICAS</td>\n",
       "      <td>Y</td>\n",
       "      <td>220314.0</td>\n",
       "      <td>2016.0</td>\n",
       "      <td>DENVER, COLORADO</td>\n",
       "      <td>-104.990251</td>\n",
       "      <td>39.739236</td>\n",
       "    </tr>\n",
       "    <tr>\n",
       "      <th>4</th>\n",
       "      <td>5</td>\n",
       "      <td>WITHDRAWN</td>\n",
       "      <td>PEABODY INVESTMENTS CORP.</td>\n",
       "      <td>CHIEF EXECUTIVES</td>\n",
       "      <td>PRESIDENT MONGOLIA AND INDIA</td>\n",
       "      <td>Y</td>\n",
       "      <td>157518.4</td>\n",
       "      <td>2016.0</td>\n",
       "      <td>ST. LOUIS, MISSOURI</td>\n",
       "      <td>-90.199404</td>\n",
       "      <td>38.627003</td>\n",
       "    </tr>\n",
       "  </tbody>\n",
       "</table>\n",
       "</div>"
      ],
      "text/plain": [
       "   Unnamed: 0          CASE_STATUS  \\\n",
       "0           1  CERTIFIED-WITHDRAWN   \n",
       "1           2  CERTIFIED-WITHDRAWN   \n",
       "2           3  CERTIFIED-WITHDRAWN   \n",
       "3           4  CERTIFIED-WITHDRAWN   \n",
       "4           5            WITHDRAWN   \n",
       "\n",
       "                                       EMPLOYER_NAME  \\\n",
       "0                             UNIVERSITY OF MICHIGAN   \n",
       "1                             GOODMAN NETWORKS, INC.   \n",
       "2                          PORTS AMERICA GROUP, INC.   \n",
       "3  GATES CORPORATION, A WHOLLY-OWNED SUBSIDIARY O...   \n",
       "4                          PEABODY INVESTMENTS CORP.   \n",
       "\n",
       "                        SOC_NAME                     JOB_TITLE  \\\n",
       "0  BIOCHEMISTS AND BIOPHYSICISTS  POSTDOCTORAL RESEARCH FELLOW   \n",
       "1               CHIEF EXECUTIVES       CHIEF OPERATING OFFICER   \n",
       "2               CHIEF EXECUTIVES         CHIEF PROCESS OFFICER   \n",
       "3               CHIEF EXECUTIVES   REGIONAL PRESIDEN, AMERICAS   \n",
       "4               CHIEF EXECUTIVES  PRESIDENT MONGOLIA AND INDIA   \n",
       "\n",
       "  FULL_TIME_POSITION  PREVAILING_WAGE    YEAR                 WORKSITE  \\\n",
       "0                  N          36067.0  2016.0      ANN ARBOR, MICHIGAN   \n",
       "1                  Y         242674.0  2016.0             PLANO, TEXAS   \n",
       "2                  Y         193066.0  2016.0  JERSEY CITY, NEW JERSEY   \n",
       "3                  Y         220314.0  2016.0         DENVER, COLORADO   \n",
       "4                  Y         157518.4  2016.0      ST. LOUIS, MISSOURI   \n",
       "\n",
       "          lon        lat  \n",
       "0  -83.743038  42.280826  \n",
       "1  -96.698886  33.019843  \n",
       "2  -74.077642  40.728158  \n",
       "3 -104.990251  39.739236  \n",
       "4  -90.199404  38.627003  "
      ]
     },
     "execution_count": 3,
     "metadata": {},
     "output_type": "execute_result"
    }
   ],
   "source": [
    "df.head()\n"
   ]
  },
  {
   "cell_type": "code",
   "execution_count": 4,
   "metadata": {},
   "outputs": [
    {
     "data": {
      "text/html": [
       "<div>\n",
       "<style scoped>\n",
       "    .dataframe tbody tr th:only-of-type {\n",
       "        vertical-align: middle;\n",
       "    }\n",
       "\n",
       "    .dataframe tbody tr th {\n",
       "        vertical-align: top;\n",
       "    }\n",
       "\n",
       "    .dataframe thead th {\n",
       "        text-align: right;\n",
       "    }\n",
       "</style>\n",
       "<table border=\"1\" class=\"dataframe\">\n",
       "  <thead>\n",
       "    <tr style=\"text-align: right;\">\n",
       "      <th></th>\n",
       "      <th>Unnamed: 0</th>\n",
       "      <th>PREVAILING_WAGE</th>\n",
       "      <th>YEAR</th>\n",
       "      <th>lon</th>\n",
       "      <th>lat</th>\n",
       "    </tr>\n",
       "  </thead>\n",
       "  <tbody>\n",
       "    <tr>\n",
       "      <th>count</th>\n",
       "      <td>3.002458e+06</td>\n",
       "      <td>3.002373e+06</td>\n",
       "      <td>3.002445e+06</td>\n",
       "      <td>2.895216e+06</td>\n",
       "      <td>2.895216e+06</td>\n",
       "    </tr>\n",
       "    <tr>\n",
       "      <th>mean</th>\n",
       "      <td>1.501230e+06</td>\n",
       "      <td>1.469984e+05</td>\n",
       "      <td>2.013855e+03</td>\n",
       "      <td>-9.213441e+01</td>\n",
       "      <td>3.816054e+01</td>\n",
       "    </tr>\n",
       "    <tr>\n",
       "      <th>std</th>\n",
       "      <td>8.667351e+05</td>\n",
       "      <td>5.287609e+06</td>\n",
       "      <td>1.680612e+00</td>\n",
       "      <td>1.965591e+01</td>\n",
       "      <td>4.672835e+00</td>\n",
       "    </tr>\n",
       "    <tr>\n",
       "      <th>min</th>\n",
       "      <td>1.000000e+00</td>\n",
       "      <td>0.000000e+00</td>\n",
       "      <td>2.011000e+03</td>\n",
       "      <td>-1.578583e+02</td>\n",
       "      <td>1.343719e+01</td>\n",
       "    </tr>\n",
       "    <tr>\n",
       "      <th>25%</th>\n",
       "      <td>7.506152e+05</td>\n",
       "      <td>5.437100e+04</td>\n",
       "      <td>2.012000e+03</td>\n",
       "      <td>-1.119261e+02</td>\n",
       "      <td>3.416536e+01</td>\n",
       "    </tr>\n",
       "    <tr>\n",
       "      <th>50%</th>\n",
       "      <td>1.501230e+06</td>\n",
       "      <td>6.502100e+04</td>\n",
       "      <td>2.014000e+03</td>\n",
       "      <td>-8.615862e+01</td>\n",
       "      <td>3.910312e+01</td>\n",
       "    </tr>\n",
       "    <tr>\n",
       "      <th>75%</th>\n",
       "      <td>2.251844e+06</td>\n",
       "      <td>8.143200e+04</td>\n",
       "      <td>2.015000e+03</td>\n",
       "      <td>-7.551381e+01</td>\n",
       "      <td>4.088374e+01</td>\n",
       "    </tr>\n",
       "    <tr>\n",
       "      <th>max</th>\n",
       "      <td>3.002458e+06</td>\n",
       "      <td>6.997607e+09</td>\n",
       "      <td>2.016000e+03</td>\n",
       "      <td>1.457298e+02</td>\n",
       "      <td>6.483778e+01</td>\n",
       "    </tr>\n",
       "  </tbody>\n",
       "</table>\n",
       "</div>"
      ],
      "text/plain": [
       "         Unnamed: 0  PREVAILING_WAGE          YEAR           lon           lat\n",
       "count  3.002458e+06     3.002373e+06  3.002445e+06  2.895216e+06  2.895216e+06\n",
       "mean   1.501230e+06     1.469984e+05  2.013855e+03 -9.213441e+01  3.816054e+01\n",
       "std    8.667351e+05     5.287609e+06  1.680612e+00  1.965591e+01  4.672835e+00\n",
       "min    1.000000e+00     0.000000e+00  2.011000e+03 -1.578583e+02  1.343719e+01\n",
       "25%    7.506152e+05     5.437100e+04  2.012000e+03 -1.119261e+02  3.416536e+01\n",
       "50%    1.501230e+06     6.502100e+04  2.014000e+03 -8.615862e+01  3.910312e+01\n",
       "75%    2.251844e+06     8.143200e+04  2.015000e+03 -7.551381e+01  4.088374e+01\n",
       "max    3.002458e+06     6.997607e+09  2.016000e+03  1.457298e+02  6.483778e+01"
      ]
     },
     "execution_count": 4,
     "metadata": {},
     "output_type": "execute_result"
    }
   ],
   "source": [
    "df.describe()"
   ]
  },
  {
   "cell_type": "code",
   "execution_count": 5,
   "metadata": {},
   "outputs": [
    {
     "name": "stdout",
     "output_type": "stream",
     "text": [
      "<class 'pandas.core.frame.DataFrame'>\n",
      "RangeIndex: 3002458 entries, 0 to 3002457\n",
      "Data columns (total 11 columns):\n",
      " #   Column              Dtype  \n",
      "---  ------              -----  \n",
      " 0   Unnamed: 0          int64  \n",
      " 1   CASE_STATUS         object \n",
      " 2   EMPLOYER_NAME       object \n",
      " 3   SOC_NAME            object \n",
      " 4   JOB_TITLE           object \n",
      " 5   FULL_TIME_POSITION  object \n",
      " 6   PREVAILING_WAGE     float64\n",
      " 7   YEAR                float64\n",
      " 8   WORKSITE            object \n",
      " 9   lon                 float64\n",
      " 10  lat                 float64\n",
      "dtypes: float64(4), int64(1), object(6)\n",
      "memory usage: 252.0+ MB\n"
     ]
    }
   ],
   "source": [
    "df.info()"
   ]
  },
  {
   "cell_type": "code",
   "execution_count": 6,
   "metadata": {},
   "outputs": [
    {
     "data": {
      "text/plain": [
       "(3002458, 11)"
      ]
     },
     "execution_count": 6,
     "metadata": {},
     "output_type": "execute_result"
    }
   ],
   "source": [
    "df.shape"
   ]
  },
  {
   "cell_type": "markdown",
   "metadata": {},
   "source": [
    "# droping unwanted columns"
   ]
  },
  {
   "cell_type": "code",
   "execution_count": 7,
   "metadata": {},
   "outputs": [],
   "source": [
    "df.drop(columns = ['Unnamed: 0','lon','lat'],inplace = True)"
   ]
  },
  {
   "cell_type": "code",
   "execution_count": 8,
   "metadata": {},
   "outputs": [
    {
     "data": {
      "text/html": [
       "<div>\n",
       "<style scoped>\n",
       "    .dataframe tbody tr th:only-of-type {\n",
       "        vertical-align: middle;\n",
       "    }\n",
       "\n",
       "    .dataframe tbody tr th {\n",
       "        vertical-align: top;\n",
       "    }\n",
       "\n",
       "    .dataframe thead th {\n",
       "        text-align: right;\n",
       "    }\n",
       "</style>\n",
       "<table border=\"1\" class=\"dataframe\">\n",
       "  <thead>\n",
       "    <tr style=\"text-align: right;\">\n",
       "      <th></th>\n",
       "      <th>CASE_STATUS</th>\n",
       "      <th>EMPLOYER_NAME</th>\n",
       "      <th>SOC_NAME</th>\n",
       "      <th>JOB_TITLE</th>\n",
       "      <th>FULL_TIME_POSITION</th>\n",
       "      <th>PREVAILING_WAGE</th>\n",
       "      <th>YEAR</th>\n",
       "      <th>WORKSITE</th>\n",
       "    </tr>\n",
       "  </thead>\n",
       "  <tbody>\n",
       "    <tr>\n",
       "      <th>0</th>\n",
       "      <td>CERTIFIED-WITHDRAWN</td>\n",
       "      <td>UNIVERSITY OF MICHIGAN</td>\n",
       "      <td>BIOCHEMISTS AND BIOPHYSICISTS</td>\n",
       "      <td>POSTDOCTORAL RESEARCH FELLOW</td>\n",
       "      <td>N</td>\n",
       "      <td>36067.0</td>\n",
       "      <td>2016.0</td>\n",
       "      <td>ANN ARBOR, MICHIGAN</td>\n",
       "    </tr>\n",
       "    <tr>\n",
       "      <th>1</th>\n",
       "      <td>CERTIFIED-WITHDRAWN</td>\n",
       "      <td>GOODMAN NETWORKS, INC.</td>\n",
       "      <td>CHIEF EXECUTIVES</td>\n",
       "      <td>CHIEF OPERATING OFFICER</td>\n",
       "      <td>Y</td>\n",
       "      <td>242674.0</td>\n",
       "      <td>2016.0</td>\n",
       "      <td>PLANO, TEXAS</td>\n",
       "    </tr>\n",
       "  </tbody>\n",
       "</table>\n",
       "</div>"
      ],
      "text/plain": [
       "           CASE_STATUS           EMPLOYER_NAME                       SOC_NAME  \\\n",
       "0  CERTIFIED-WITHDRAWN  UNIVERSITY OF MICHIGAN  BIOCHEMISTS AND BIOPHYSICISTS   \n",
       "1  CERTIFIED-WITHDRAWN  GOODMAN NETWORKS, INC.               CHIEF EXECUTIVES   \n",
       "\n",
       "                      JOB_TITLE FULL_TIME_POSITION  PREVAILING_WAGE    YEAR  \\\n",
       "0  POSTDOCTORAL RESEARCH FELLOW                  N          36067.0  2016.0   \n",
       "1       CHIEF OPERATING OFFICER                  Y         242674.0  2016.0   \n",
       "\n",
       "              WORKSITE  \n",
       "0  ANN ARBOR, MICHIGAN  \n",
       "1         PLANO, TEXAS  "
      ]
     },
     "execution_count": 8,
     "metadata": {},
     "output_type": "execute_result"
    }
   ],
   "source": [
    "df.head(2)"
   ]
  },
  {
   "cell_type": "code",
   "execution_count": 9,
   "metadata": {},
   "outputs": [
    {
     "data": {
      "text/plain": [
       "(3002458, 8)"
      ]
     },
     "execution_count": 9,
     "metadata": {},
     "output_type": "execute_result"
    }
   ],
   "source": [
    "df.shape"
   ]
  },
  {
   "cell_type": "markdown",
   "metadata": {},
   "source": [
    "# checking for null values"
   ]
  },
  {
   "cell_type": "code",
   "execution_count": 10,
   "metadata": {},
   "outputs": [
    {
     "data": {
      "text/plain": [
       "CASE_STATUS            True\n",
       "EMPLOYER_NAME          True\n",
       "SOC_NAME               True\n",
       "JOB_TITLE              True\n",
       "FULL_TIME_POSITION     True\n",
       "PREVAILING_WAGE        True\n",
       "YEAR                   True\n",
       "WORKSITE              False\n",
       "dtype: bool"
      ]
     },
     "execution_count": 10,
     "metadata": {},
     "output_type": "execute_result"
    }
   ],
   "source": [
    "df.isnull().any()"
   ]
  },
  {
   "cell_type": "code",
   "execution_count": 11,
   "metadata": {},
   "outputs": [
    {
     "data": {
      "text/plain": [
       "CASE_STATUS              13\n",
       "EMPLOYER_NAME            59\n",
       "SOC_NAME              17734\n",
       "JOB_TITLE                43\n",
       "FULL_TIME_POSITION       15\n",
       "PREVAILING_WAGE          85\n",
       "YEAR                     13\n",
       "WORKSITE                  0\n",
       "dtype: int64"
      ]
     },
     "execution_count": 11,
     "metadata": {},
     "output_type": "execute_result"
    }
   ],
   "source": [
    "df.isnull().sum()"
   ]
  },
  {
   "cell_type": "markdown",
   "metadata": {},
   "source": [
    "### Filling up the null values"
   ]
  },
  {
   "cell_type": "code",
   "execution_count": 12,
   "metadata": {},
   "outputs": [],
   "source": [
    "#print(df['EMPLOYER_NAME'].mode())\n",
    "df['EMPLOYER_NAME'] = df['EMPLOYER_NAME'].fillna(df['EMPLOYER_NAME'].mode().iloc[0])\n",
    "\n",
    "#df['SOC_NAME'].mode\n",
    "df['SOC_NAME'] = df['SOC_NAME'].fillna(df['SOC_NAME'].mode().iloc[0])\n",
    "\n",
    "#df['JOB_TITLE'].mode()\n",
    "df['JOB_TITLE'] = df['JOB_TITLE'].fillna(df['JOB_TITLE'].mode().iloc[0])\n",
    "\n",
    "#df['FULL_TIME_POSITION'].mode()\n",
    "df['FULL_TIME_POSITION'] = df['FULL_TIME_POSITION'].fillna(df['FULL_TIME_POSITION'].mode().iloc[0])\n",
    "\n",
    "#df['PREVAILING_WAGE'].mean()\n",
    "df['PREVAILING_WAGE'].fillna(df['PREVAILING_WAGE'].mean(), inplace = True)\n",
    "df['PREVAILING_WAGE'] = df['PREVAILING_WAGE'].round()\n",
    "\n",
    "#df['YEAR'].mode()\n",
    "df['YEAR'] = df['YEAR'].fillna(df['YEAR'].mode().iloc[0])\n",
    "\n",
    "#df['CASE_STATUS'].mode()\n",
    "df['CASE_STATUS'] = df['CASE_STATUS'].fillna(df['CASE_STATUS'].mode().iloc[0])"
   ]
  },
  {
   "cell_type": "markdown",
   "metadata": {},
   "source": [
    "### checking the null values if any"
   ]
  },
  {
   "cell_type": "code",
   "execution_count": 13,
   "metadata": {},
   "outputs": [
    {
     "data": {
      "text/plain": [
       "CASE_STATUS           0\n",
       "EMPLOYER_NAME         0\n",
       "SOC_NAME              0\n",
       "JOB_TITLE             0\n",
       "FULL_TIME_POSITION    0\n",
       "PREVAILING_WAGE       0\n",
       "YEAR                  0\n",
       "WORKSITE              0\n",
       "dtype: int64"
      ]
     },
     "execution_count": 13,
     "metadata": {},
     "output_type": "execute_result"
    }
   ],
   "source": [
    "df.isnull().sum()"
   ]
  },
  {
   "cell_type": "markdown",
   "metadata": {},
   "source": [
    "### Converting \"CASE_STATUS\" Categorical to  Binary outcomes"
   ]
  },
  {
   "cell_type": "code",
   "execution_count": 14,
   "metadata": {},
   "outputs": [
    {
     "data": {
      "text/plain": [
       "CERTIFIED                                             2615636\n",
       "CERTIFIED-WITHDRAWN                                    202659\n",
       "DENIED                                                  94346\n",
       "WITHDRAWN                                               89799\n",
       "PENDING QUALITY AND COMPLIANCE REVIEW - UNASSIGNED         15\n",
       "REJECTED                                                    2\n",
       "INVALIDATED                                                 1\n",
       "Name: CASE_STATUS, dtype: int64"
      ]
     },
     "execution_count": 14,
     "metadata": {},
     "output_type": "execute_result"
    }
   ],
   "source": [
    "df[\"CASE_STATUS\"].value_counts()"
   ]
  },
  {
   "cell_type": "code",
   "execution_count": 15,
   "metadata": {},
   "outputs": [
    {
     "data": {
      "image/png": "[encoded data removed]",
      "text/plain": [
       "<Figure size 864x576 with 1 Axes>"
      ]
     },
     "metadata": {
      "needs_background": "light"
     },
     "output_type": "display_data"
    }
   ],
   "source": [
    "plt.figure(figsize=(12,8))\n",
    "ax=df['CASE_STATUS'].value_counts().sort_values(ascending=True).plot.barh(width=0.9,color='y',edgecolor='k',linewidth=1.5)\n",
    "for i, v in enumerate(df['CASE_STATUS'].value_counts().sort_values(ascending=True).values): \n",
    "    ax.text(.2, i, v,fontsize=12,color='r',weight='bold')\n",
    "plt.title('Case Status for All Years',fontsize=30)\n",
    "plt.xlabel('Number of Applicants',fontsize=20)\n",
    "plt.tick_params(labelsize=15)\n",
    "plt.grid()\n",
    "plt.ioff()\n",
    "plt.show()"
   ]
  },
  {
   "cell_type": "code",
   "execution_count": 16,
   "metadata": {},
   "outputs": [],
   "source": [
    "#here we are going for binary classification hence we have converted remaining classes into either certified or denied.\n",
    "import warnings\n",
    "warnings.filterwarnings(\"ignore\")\n",
    "df.CASE_STATUS[df['CASE_STATUS']=='INVALIDATED'] = 'DENIED'\n",
    "df.CASE_STATUS[df['CASE_STATUS']=='REJECTED'] = 'DENIED'\n",
    "df.CASE_STATUS[df['CASE_STATUS']=='PENDING QUALITY AND COMPLIANCE REVIEW - UNASSIGNED'] = 'DENIED'\n",
    "df.CASE_STATUS[df['CASE_STATUS']=='CERTIFIED-WITHDRAWN'] = 'CERTIFIED'"
   ]
  },
  {
   "cell_type": "code",
   "execution_count": 17,
   "metadata": {},
   "outputs": [
    {
     "data": {
      "text/plain": [
       "CERTIFIED    2818295\n",
       "DENIED         94364\n",
       "WITHDRAWN      89799\n",
       "Name: CASE_STATUS, dtype: int64"
      ]
     },
     "execution_count": 17,
     "metadata": {},
     "output_type": "execute_result"
    }
   ],
   "source": [
    "df[\"CASE_STATUS\"].value_counts()"
   ]
  },
  {
   "cell_type": "code",
   "execution_count": 18,
   "metadata": {},
   "outputs": [],
   "source": [
    "#As WITHDRAWN category we can't to eiher certified or denied so drop rows with category withdrawn\n",
    "df = df.drop(df[df.CASE_STATUS == 'WITHDRAWN'].index)"
   ]
  },
  {
   "cell_type": "code",
   "execution_count": 19,
   "metadata": {},
   "outputs": [
    {
     "data": {
      "text/plain": [
       "CERTIFIED    2818295\n",
       "DENIED         94364\n",
       "Name: CASE_STATUS, dtype: int64"
      ]
     },
     "execution_count": 19,
     "metadata": {},
     "output_type": "execute_result"
    }
   ],
   "source": [
    "df[\"CASE_STATUS\"].value_counts()  "
   ]
  },
  {
   "cell_type": "markdown",
   "metadata": {},
   "source": [
    "### Data visualization of Output Column:"
   ]
  },
  {
   "cell_type": "code",
   "execution_count": 20,
   "metadata": {},
   "outputs": [
    {
     "data": {
      "image/png": "[encoded data removed]",
      "text/plain": [
       "<Figure size 864x576 with 1 Axes>"
      ]
     },
     "metadata": {
      "needs_background": "light"
     },
     "output_type": "display_data"
    }
   ],
   "source": [
    "plt.figure(figsize=(12,8))\n",
    "ax=df['CASE_STATUS'].value_counts().sort_values(ascending=True).plot.barh(width=0.9,color='y',edgecolor='k',linewidth=1.5)\n",
    "for i, v in enumerate(df['CASE_STATUS'].value_counts().sort_values(ascending=True).values): \n",
    "    ax.text(.2, i, v,fontsize=12,color='r',weight='bold')\n",
    "plt.title('Case Status for All Years',fontsize=30)\n",
    "plt.xlabel('Number of Applicants',fontsize=20)\n",
    "plt.tick_params(labelsize=15)\n",
    "plt.grid()\n",
    "plt.ioff()\n",
    "plt.show()"
   ]
  },
  {
   "cell_type": "code",
   "execution_count": 21,
   "metadata": {},
   "outputs": [
    {
     "data": {
      "image/png": "[encoded data removed]",
      "text/plain": [
       "<Figure size 432x288 with 1 Axes>"
      ]
     },
     "metadata": {
      "needs_background": "light"
     },
     "output_type": "display_data"
    }
   ],
   "source": [
    "objects = ('certified','denied')\n",
    "y_pos = np.arange(len(objects))\n",
    "performance = [2908094,94364]\n",
    "\n",
    "plt.bar(y_pos, performance, align='center',color= 'green')\n",
    "plt.xticks(y_pos, objects)\n",
    "plt.ylabel('number of petitions')\n",
    "plt.title('Case_status vs number of petitions')\n",
    "\n",
    "plt.show()"
   ]
  },
  {
   "cell_type": "markdown",
   "metadata": {},
   "source": [
    "### Down sampling"
   ]
  },
  {
   "cell_type": "code",
   "execution_count": 22,
   "metadata": {},
   "outputs": [],
   "source": [
    "from sklearn.utils import resample"
   ]
  },
  {
   "cell_type": "code",
   "execution_count": 23,
   "metadata": {},
   "outputs": [
    {
     "data": {
      "text/plain": [
       "CERTIFIED    156014\n",
       "DENIED        94364\n",
       "Name: CASE_STATUS, dtype: int64"
      ]
     },
     "execution_count": 23,
     "metadata": {},
     "output_type": "execute_result"
    }
   ],
   "source": [
    "# Separate majority and minority classes\n",
    "df_majority = df[df.CASE_STATUS=='CERTIFIED']\n",
    "df_minority = df[df.CASE_STATUS=='DENIED']\n",
    " \n",
    "# Downsample majority class\n",
    "df_majority_downsampled = resample(df_majority, \n",
    "                                 replace=False,    # sample without replacement\n",
    "                                 n_samples=156014,     # to match minority class\n",
    "                                 random_state=123) # reproducible results\n",
    " \n",
    "# Combine minority class with downsampled majority class\n",
    "df_downsampled = pd.concat([df_majority_downsampled, df_minority])\n",
    " \n",
    "# Display new class counts\n",
    "df_downsampled.CASE_STATUS.value_counts()"
   ]
  },
  {
   "cell_type": "code",
   "execution_count": 24,
   "metadata": {},
   "outputs": [
    {
     "data": {
      "image/png": "[encoded data removed]",
      "text/plain": [
       "<Figure size 432x288 with 1 Axes>"
      ]
     },
     "metadata": {
      "needs_background": "light"
     },
     "output_type": "display_data"
    }
   ],
   "source": [
    "objects = ('certified','denied')\n",
    "y_pos = np.arange(len(objects))\n",
    "performance = [156014,94364]\n",
    "\n",
    "plt.bar(y_pos, performance, align='center',color= 'green')\n",
    "plt.xticks(y_pos, objects)\n",
    "plt.ylabel('number of petitions')\n",
    "plt.title('Case_status vs number of petitions')\n",
    "\n",
    "\n",
    "\n",
    "plt.show()"
   ]
  },
  {
   "cell_type": "markdown",
   "metadata": {},
   "source": [
    "### Distrubition of prevailing_wage to 6 categories"
   ]
  },
  {
   "cell_type": "code",
   "execution_count": 25,
   "metadata": {},
   "outputs": [
    {
     "data": {
      "text/plain": [
       "0.0"
      ]
     },
     "execution_count": 25,
     "metadata": {},
     "output_type": "execute_result"
    }
   ],
   "source": [
    "df_downsampled['PREVAILING_WAGE'].min()"
   ]
  },
  {
   "cell_type": "code",
   "execution_count": 26,
   "metadata": {},
   "outputs": [
    {
     "data": {
      "text/plain": [
       "6997606720.0"
      ]
     },
     "execution_count": 26,
     "metadata": {},
     "output_type": "execute_result"
    }
   ],
   "source": [
    "df_downsampled['PREVAILING_WAGE'].max()"
   ]
  },
  {
   "cell_type": "code",
   "execution_count": 27,
   "metadata": {},
   "outputs": [
    {
     "data": {
      "text/plain": [
       "889475.2720207047"
      ]
     },
     "execution_count": 27,
     "metadata": {},
     "output_type": "execute_result"
    }
   ],
   "source": [
    "df_downsampled['PREVAILING_WAGE'].mean()"
   ]
  },
  {
   "cell_type": "code",
   "execution_count": 28,
   "metadata": {},
   "outputs": [
    {
     "name": "stdout",
     "output_type": "stream",
     "text": [
      "        CASE_STATUS                              EMPLOYER_NAME  \\\n",
      "1022566   CERTIFIED                             TECHIZEE, INC.   \n",
      "962549    CERTIFIED               CONNVERTEX TECHNOLOGIES INC.   \n",
      "370678    CERTIFIED                      HQ TECH SOLUTIONS LLC   \n",
      "1987954   CERTIFIED                     ERNST & YOUNG U.S. LLP   \n",
      "2692234   CERTIFIED  WESTERMAN, HATTORI, DANIELS & ADRIAN, LLP   \n",
      "...             ...                                        ...   \n",
      "3002369      DENIED                             CUSTOMTBT, LLC   \n",
      "3002378      DENIED               KEVIN PARK & ASSOCIATES, LTD   \n",
      "3002383      DENIED                       IVERTIX INCORPORATED   \n",
      "3002389      DENIED                  PROGRESSIVE SURFACE, INC.   \n",
      "3002392      DENIED             PEI PARTNERSHIP ARCHITECTS LLP   \n",
      "\n",
      "                                  SOC_NAME  \\\n",
      "1022566          COMPUTER SYSTEMS ANALYSTS   \n",
      "962549                COMPUTER PROGRAMMERS   \n",
      "370678   SOFTWARE DEVELOPERS, APPLICATIONS   \n",
      "1987954           Accountants and Auditors   \n",
      "2692234       Interpreters and Translators   \n",
      "...                                    ...   \n",
      "3002369         Instructional Coordinators   \n",
      "3002378           Accountants and Auditors   \n",
      "3002383               Computer Programmers   \n",
      "3002389                    Sales Engineers   \n",
      "3002392   Architectural and Civil Drafters   \n",
      "\n",
      "                                   JOB_TITLE FULL_TIME_POSITION  \\\n",
      "1022566              COMPUTER SYSTEM ANALYST                  Y   \n",
      "962549         COMPUTER PROGRAMMER/DEVELOPER                  Y   \n",
      "370678               HEALTHCARE DATA ANALYST                  N   \n",
      "1987954                      ASSURANCE STAFF                  Y   \n",
      "2692234  RESEARCH ANALYST / LEGAL TRANSLATOR                  Y   \n",
      "...                                      ...                ...   \n",
      "3002369        SENIOR INSTRUCTIONAL DESIGNER                  Y   \n",
      "3002378                           ACCOUNTANT                  Y   \n",
      "3002383                APPLICATION DEVELOPER                  Y   \n",
      "3002389                       SALES ENGINEER                  Y   \n",
      "3002392               ARCHITECTURAL DESIGNER                  Y   \n",
      "\n",
      "         PREVAILING_WAGE    YEAR                          WORKSITE      WAGE  \n",
      "1022566          65083.0  2015.0              SOMERSET, NEW JERSEY       LOW  \n",
      "962549           44013.0  2015.0            BISMARCK, NORTH DAKOTA  VERY LOW  \n",
      "370678           66664.0  2016.0        WEST HARTFORD, CONNECTICUT       LOW  \n",
      "1987954          55370.0  2013.0         SAN FRANCISCO, CALIFORNIA       LOW  \n",
      "2692234          32864.0  2011.0  WASHINGTON, DISTRICT OF COLUMBIA  VERY LOW  \n",
      "...                  ...     ...                               ...       ...  \n",
      "3002369          46738.0  2011.0                 MARIETTA, GEORGIA  VERY LOW  \n",
      "3002378          45760.0  2011.0       ARLINGTON HEIGHTS, ILLINOIS  VERY LOW  \n",
      "3002383          54080.0  2011.0  WASHINGTON, DISTRICT OF COLUMBIA       LOW  \n",
      "3002389          55141.0  2011.0            GRAND RAPIDS, MICHIGAN       LOW  \n",
      "3002392          69368.0  2011.0                NEW YORK, NEW YORK       LOW  \n",
      "\n",
      "[250378 rows x 9 columns]\n"
     ]
    }
   ],
   "source": [
    "df_downsampled.loc[df_downsampled['PREVAILING_WAGE'] <= 50000.0, 'WAGE'] = 'VERY LOW'\n",
    "df_downsampled.loc[(df_downsampled['PREVAILING_WAGE'] > 50000.0) & (df_downsampled['PREVAILING_WAGE'] <= 70000.0), 'WAGE'] = 'LOW'\n",
    "df_downsampled.loc[(df_downsampled['PREVAILING_WAGE'] > 70000.0) & (df_downsampled['PREVAILING_WAGE'] <= 90000.0), 'WAGE'] = 'MEDIUM'\n",
    "df_downsampled.loc[(df_downsampled['PREVAILING_WAGE'] > 90000.0) & (df_downsampled['PREVAILING_WAGE'] <= 150000.0), 'WAGE'] = 'HIGH'\n",
    "df_downsampled.loc[(df_downsampled['PREVAILING_WAGE'] > 150000.0) & (df_downsampled['PREVAILING_WAGE'] <= 200000.0), 'WAGE'] = 'VERY HIGH'\n",
    "df_downsampled.loc[df_downsampled['PREVAILING_WAGE'] > 200000.0, 'WAGE'] = 'EXTREMELY HIGH'\n",
    "\n",
    "\n",
    "print(df_downsampled)"
   ]
  },
  {
   "cell_type": "code",
   "execution_count": 29,
   "metadata": {},
   "outputs": [
    {
     "data": {
      "text/plain": [
       "array(['LOW', 'VERY LOW', 'MEDIUM', 'HIGH', 'VERY HIGH', 'EXTREMELY HIGH'],\n",
       "      dtype=object)"
      ]
     },
     "execution_count": 29,
     "metadata": {},
     "output_type": "execute_result"
    }
   ],
   "source": [
    "df_downsampled['WAGE'].unique()"
   ]
  },
  {
   "cell_type": "code",
   "execution_count": 30,
   "metadata": {},
   "outputs": [],
   "source": [
    "df_downsampled.drop(columns = ['PREVAILING_WAGE'], inplace = True)"
   ]
  },
  {
   "cell_type": "code",
   "execution_count": 31,
   "metadata": {},
   "outputs": [
    {
     "name": "stdout",
     "output_type": "stream",
     "text": [
      "<class 'pandas.core.frame.DataFrame'>\n",
      "Int64Index: 250378 entries, 1022566 to 3002392\n",
      "Data columns (total 8 columns):\n",
      " #   Column              Non-Null Count   Dtype  \n",
      "---  ------              --------------   -----  \n",
      " 0   CASE_STATUS         250378 non-null  object \n",
      " 1   EMPLOYER_NAME       250378 non-null  object \n",
      " 2   SOC_NAME            250378 non-null  object \n",
      " 3   JOB_TITLE           250378 non-null  object \n",
      " 4   FULL_TIME_POSITION  250378 non-null  object \n",
      " 5   YEAR                250378 non-null  float64\n",
      " 6   WORKSITE            250378 non-null  object \n",
      " 7   WAGE                250378 non-null  object \n",
      "dtypes: float64(1), object(7)\n",
      "memory usage: 17.2+ MB\n"
     ]
    },
    {
     "data": {
      "text/plain": [
       "(250378, 8)"
      ]
     },
     "execution_count": 31,
     "metadata": {},
     "output_type": "execute_result"
    }
   ],
   "source": [
    "df_downsampled.info()\n",
    "df_downsampled.shape"
   ]
  },
  {
   "cell_type": "code",
   "execution_count": 32,
   "metadata": {},
   "outputs": [],
   "source": [
    "from sklearn.compose import ColumnTransformer\n",
    "from sklearn.preprocessing import OneHotEncoder\n",
    "from sklearn.preprocessing import LabelEncoder "
   ]
  },
  {
   "cell_type": "code",
   "execution_count": 33,
   "metadata": {},
   "outputs": [],
   "source": [
    "lb=LabelEncoder()\n",
    "\n",
    "df_downsampled['CASE_STATUS']=lb.fit_transform(df_downsampled['CASE_STATUS'])\n",
    "df_downsampled['FULL_TIME_POSITION']=lb.fit_transform(df_downsampled['FULL_TIME_POSITION'])\n",
    "df_downsampled['WAGE']=lb.fit_transform(df_downsampled['WAGE'])\n",
    "df_downsampled['YEAR']=lb.fit_transform(df_downsampled['YEAR'])\n",
    "\n",
    "\n",
    "df_downsampled['EMPLOYER_NAME']=lb.fit_transform(df_downsampled['EMPLOYER_NAME'])\n",
    "df_downsampled['SOC_NAME']=lb.fit_transform(df_downsampled['SOC_NAME'])\n",
    "df_downsampled['JOB_TITLE']=lb.fit_transform(df_downsampled['JOB_TITLE'])\n",
    "df_downsampled['WORKSITE']=lb.fit_transform(df_downsampled['WORKSITE'])\n",
    "\n",
    "\n"
   ]
  },
  {
   "cell_type": "code",
   "execution_count": 34,
   "metadata": {},
   "outputs": [
    {
     "data": {
      "text/html": [
       "<div>\n",
       "<style scoped>\n",
       "    .dataframe tbody tr th:only-of-type {\n",
       "        vertical-align: middle;\n",
       "    }\n",
       "\n",
       "    .dataframe tbody tr th {\n",
       "        vertical-align: top;\n",
       "    }\n",
       "\n",
       "    .dataframe thead th {\n",
       "        text-align: right;\n",
       "    }\n",
       "</style>\n",
       "<table border=\"1\" class=\"dataframe\">\n",
       "  <thead>\n",
       "    <tr style=\"text-align: right;\">\n",
       "      <th></th>\n",
       "      <th>CASE_STATUS</th>\n",
       "      <th>EMPLOYER_NAME</th>\n",
       "      <th>SOC_NAME</th>\n",
       "      <th>JOB_TITLE</th>\n",
       "      <th>FULL_TIME_POSITION</th>\n",
       "      <th>YEAR</th>\n",
       "      <th>WORKSITE</th>\n",
       "      <th>WAGE</th>\n",
       "    </tr>\n",
       "  </thead>\n",
       "  <tbody>\n",
       "    <tr>\n",
       "      <th>1022566</th>\n",
       "      <td>0</td>\n",
       "      <td>69147</td>\n",
       "      <td>243</td>\n",
       "      <td>9816</td>\n",
       "      <td>1</td>\n",
       "      <td>4</td>\n",
       "      <td>7067</td>\n",
       "      <td>2</td>\n",
       "    </tr>\n",
       "    <tr>\n",
       "      <th>962549</th>\n",
       "      <td>0</td>\n",
       "      <td>16522</td>\n",
       "      <td>228</td>\n",
       "      <td>9621</td>\n",
       "      <td>1</td>\n",
       "      <td>4</td>\n",
       "      <td>784</td>\n",
       "      <td>5</td>\n",
       "    </tr>\n",
       "    <tr>\n",
       "      <th>370678</th>\n",
       "      <td>0</td>\n",
       "      <td>32437</td>\n",
       "      <td>1229</td>\n",
       "      <td>19707</td>\n",
       "      <td>0</td>\n",
       "      <td>5</td>\n",
       "      <td>8213</td>\n",
       "      <td>2</td>\n",
       "    </tr>\n",
       "    <tr>\n",
       "      <th>1987954</th>\n",
       "      <td>0</td>\n",
       "      <td>23704</td>\n",
       "      <td>57</td>\n",
       "      <td>5201</td>\n",
       "      <td>1</td>\n",
       "      <td>2</td>\n",
       "      <td>6721</td>\n",
       "      <td>2</td>\n",
       "    </tr>\n",
       "    <tr>\n",
       "      <th>2692234</th>\n",
       "      <td>0</td>\n",
       "      <td>78008</td>\n",
       "      <td>788</td>\n",
       "      <td>36407</td>\n",
       "      <td>1</td>\n",
       "      <td>0</td>\n",
       "      <td>8069</td>\n",
       "      <td>5</td>\n",
       "    </tr>\n",
       "    <tr>\n",
       "      <th>...</th>\n",
       "      <td>...</td>\n",
       "      <td>...</td>\n",
       "      <td>...</td>\n",
       "      <td>...</td>\n",
       "      <td>...</td>\n",
       "      <td>...</td>\n",
       "      <td>...</td>\n",
       "      <td>...</td>\n",
       "    </tr>\n",
       "    <tr>\n",
       "      <th>3002369</th>\n",
       "      <td>1</td>\n",
       "      <td>18063</td>\n",
       "      <td>779</td>\n",
       "      <td>40819</td>\n",
       "      <td>1</td>\n",
       "      <td>0</td>\n",
       "      <td>4530</td>\n",
       "      <td>5</td>\n",
       "    </tr>\n",
       "    <tr>\n",
       "      <th>3002378</th>\n",
       "      <td>1</td>\n",
       "      <td>38797</td>\n",
       "      <td>57</td>\n",
       "      <td>361</td>\n",
       "      <td>1</td>\n",
       "      <td>0</td>\n",
       "      <td>374</td>\n",
       "      <td>5</td>\n",
       "    </tr>\n",
       "    <tr>\n",
       "      <th>3002383</th>\n",
       "      <td>1</td>\n",
       "      <td>36427</td>\n",
       "      <td>329</td>\n",
       "      <td>1815</td>\n",
       "      <td>1</td>\n",
       "      <td>0</td>\n",
       "      <td>8069</td>\n",
       "      <td>2</td>\n",
       "    </tr>\n",
       "    <tr>\n",
       "      <th>3002389</th>\n",
       "      <td>1</td>\n",
       "      <td>56493</td>\n",
       "      <td>1269</td>\n",
       "      <td>37731</td>\n",
       "      <td>1</td>\n",
       "      <td>0</td>\n",
       "      <td>2981</td>\n",
       "      <td>2</td>\n",
       "    </tr>\n",
       "    <tr>\n",
       "      <th>3002392</th>\n",
       "      <td>1</td>\n",
       "      <td>53889</td>\n",
       "      <td>97</td>\n",
       "      <td>2379</td>\n",
       "      <td>1</td>\n",
       "      <td>0</td>\n",
       "      <td>5311</td>\n",
       "      <td>2</td>\n",
       "    </tr>\n",
       "  </tbody>\n",
       "</table>\n",
       "<p>250378 rows × 8 columns</p>\n",
       "</div>"
      ],
      "text/plain": [
       "         CASE_STATUS  EMPLOYER_NAME  SOC_NAME  JOB_TITLE  FULL_TIME_POSITION  \\\n",
       "1022566            0          69147       243       9816                   1   \n",
       "962549             0          16522       228       9621                   1   \n",
       "370678             0          32437      1229      19707                   0   \n",
       "1987954            0          23704        57       5201                   1   \n",
       "2692234            0          78008       788      36407                   1   \n",
       "...              ...            ...       ...        ...                 ...   \n",
       "3002369            1          18063       779      40819                   1   \n",
       "3002378            1          38797        57        361                   1   \n",
       "3002383            1          36427       329       1815                   1   \n",
       "3002389            1          56493      1269      37731                   1   \n",
       "3002392            1          53889        97       2379                   1   \n",
       "\n",
       "         YEAR  WORKSITE  WAGE  \n",
       "1022566     4      7067     2  \n",
       "962549      4       784     5  \n",
       "370678      5      8213     2  \n",
       "1987954     2      6721     2  \n",
       "2692234     0      8069     5  \n",
       "...       ...       ...   ...  \n",
       "3002369     0      4530     5  \n",
       "3002378     0       374     5  \n",
       "3002383     0      8069     2  \n",
       "3002389     0      2981     2  \n",
       "3002392     0      5311     2  \n",
       "\n",
       "[250378 rows x 8 columns]"
      ]
     },
     "execution_count": 34,
     "metadata": {},
     "output_type": "execute_result"
    }
   ],
   "source": [
    "df_downsampled"
   ]
  },
  {
   "cell_type": "code",
   "execution_count": 35,
   "metadata": {},
   "outputs": [
    {
     "data": {
      "text/plain": [
       "(250378, 7)"
      ]
     },
     "execution_count": 35,
     "metadata": {},
     "output_type": "execute_result"
    }
   ],
   "source": [
    "x = df_downsampled.iloc[:,1:8].values\n",
    "x.shape"
   ]
  },
  {
   "cell_type": "code",
   "execution_count": 36,
   "metadata": {},
   "outputs": [
    {
     "data": {
      "text/plain": [
       "(250378, 1)"
      ]
     },
     "execution_count": 36,
     "metadata": {},
     "output_type": "execute_result"
    }
   ],
   "source": [
    "y = df_downsampled.iloc[:,0:1].values\n",
    "y.shape"
   ]
  },
  {
   "cell_type": "code",
   "execution_count": 37,
   "metadata": {},
   "outputs": [],
   "source": [
    "from sklearn.model_selection import train_test_split\n",
    "x_train,x_test,y_train,y_test=train_test_split(x,y,test_size=0.3,random_state=0)"
   ]
  },
  {
   "cell_type": "code",
   "execution_count": null,
   "metadata": {},
   "outputs": [],
   "source": []
  },
  {
   "cell_type": "code",
   "execution_count": null,
   "metadata": {},
   "outputs": [],
   "source": []
  }
 ],
 "metadata": {
  "kernelspec": {
   "display_name": "Python 3",
   "language": "python",
   "name": "python3"
  },
  "language_info": {
   "codemirror_mode": {
    "name": "ipython",
    "version": 3
   },
   "file_extension": ".py",
   "mimetype": "text/x-python",
   "name": "python",
   "nbconvert_exporter": "python",
   "pygments_lexer": "ipython3",
   "version": "3.7.6"
  }
 },
 "nbformat": 4,
 "nbformat_minor": 4
}
